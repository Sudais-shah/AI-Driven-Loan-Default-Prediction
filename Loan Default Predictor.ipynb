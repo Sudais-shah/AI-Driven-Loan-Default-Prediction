{
 "cells": [
  {
   "cell_type": "markdown",
   "id": "019bdfd2-d5dc-4afd-a615-1b8f86281b3a",
   "metadata": {},
   "source": [
    "  # Project: Loan Default Predictor"
   ]
  },
  {
   "cell_type": "code",
   "execution_count": 122,
   "id": "b4f94c7f-ec65-4b5f-9d9b-669cc85564f3",
   "metadata": {},
   "outputs": [],
   "source": [
    "import pandas as pd\n",
    "import numpy as np \n",
    "import seaborn as sns\n",
    "import matplotlib.pyplot as plt\n",
    "from sklearn.model_selection import train_test_split\n",
    "from sklearn.preprocessing import StandardScaler"
   ]
  },
  {
   "cell_type": "code",
   "execution_count": 123,
   "id": "955dd0dc-2df8-40a4-b199-dba2e0970637",
   "metadata": {},
   "outputs": [],
   "source": [
    "df = pd.read_csv(r'E:\\My_Portfolio_Projects\\ML Models\\Loan_prediction_model\\lending_club_loan_two.csv', encoding='utf-8') \n",
    "color1 = 'red'\n",
    "color2 = '#4B0082'"
   ]
  },
  {
   "cell_type": "markdown",
   "id": "82b361d4-7039-4b5a-a2c0-c9ceb57369b8",
   "metadata": {},
   "source": [
    " # Data Preprocessing"
   ]
  },
  {
   "cell_type": "code",
   "execution_count": 124,
   "id": "90c6159e-0f17-4464-bf6d-2e80098de163",
   "metadata": {
    "scrolled": true
   },
   "outputs": [
    {
     "data": {
      "text/html": [
       "<div>\n",
       "<style scoped>\n",
       "    .dataframe tbody tr th:only-of-type {\n",
       "        vertical-align: middle;\n",
       "    }\n",
       "\n",
       "    .dataframe tbody tr th {\n",
       "        vertical-align: top;\n",
       "    }\n",
       "\n",
       "    .dataframe thead th {\n",
       "        text-align: right;\n",
       "    }\n",
       "</style>\n",
       "<table border=\"1\" class=\"dataframe\">\n",
       "  <thead>\n",
       "    <tr style=\"text-align: right;\">\n",
       "      <th></th>\n",
       "      <th>loan_amnt</th>\n",
       "      <th>term</th>\n",
       "      <th>int_rate</th>\n",
       "      <th>installment</th>\n",
       "      <th>grade</th>\n",
       "      <th>sub_grade</th>\n",
       "      <th>emp_title</th>\n",
       "      <th>emp_length</th>\n",
       "      <th>home_ownership</th>\n",
       "      <th>annual_inc</th>\n",
       "      <th>...</th>\n",
       "      <th>open_acc</th>\n",
       "      <th>pub_rec</th>\n",
       "      <th>revol_bal</th>\n",
       "      <th>revol_util</th>\n",
       "      <th>total_acc</th>\n",
       "      <th>initial_list_status</th>\n",
       "      <th>application_type</th>\n",
       "      <th>mort_acc</th>\n",
       "      <th>pub_rec_bankruptcies</th>\n",
       "      <th>address</th>\n",
       "    </tr>\n",
       "  </thead>\n",
       "  <tbody>\n",
       "    <tr>\n",
       "      <th>0</th>\n",
       "      <td>10000.0</td>\n",
       "      <td>36 months</td>\n",
       "      <td>11.44</td>\n",
       "      <td>329.48</td>\n",
       "      <td>B</td>\n",
       "      <td>B4</td>\n",
       "      <td>Marketing</td>\n",
       "      <td>10+ years</td>\n",
       "      <td>RENT</td>\n",
       "      <td>117000.0</td>\n",
       "      <td>...</td>\n",
       "      <td>16.0</td>\n",
       "      <td>0.0</td>\n",
       "      <td>36369.0</td>\n",
       "      <td>41.8</td>\n",
       "      <td>25.0</td>\n",
       "      <td>w</td>\n",
       "      <td>INDIVIDUAL</td>\n",
       "      <td>0.0</td>\n",
       "      <td>0.0</td>\n",
       "      <td>0174 Michelle Gateway\\nMendozaberg, OK 22690</td>\n",
       "    </tr>\n",
       "    <tr>\n",
       "      <th>1</th>\n",
       "      <td>8000.0</td>\n",
       "      <td>36 months</td>\n",
       "      <td>11.99</td>\n",
       "      <td>265.68</td>\n",
       "      <td>B</td>\n",
       "      <td>B5</td>\n",
       "      <td>Credit analyst</td>\n",
       "      <td>4 years</td>\n",
       "      <td>MORTGAGE</td>\n",
       "      <td>65000.0</td>\n",
       "      <td>...</td>\n",
       "      <td>17.0</td>\n",
       "      <td>0.0</td>\n",
       "      <td>20131.0</td>\n",
       "      <td>53.3</td>\n",
       "      <td>27.0</td>\n",
       "      <td>f</td>\n",
       "      <td>INDIVIDUAL</td>\n",
       "      <td>3.0</td>\n",
       "      <td>0.0</td>\n",
       "      <td>1076 Carney Fort Apt. 347\\nLoganmouth, SD 05113</td>\n",
       "    </tr>\n",
       "    <tr>\n",
       "      <th>2</th>\n",
       "      <td>15600.0</td>\n",
       "      <td>36 months</td>\n",
       "      <td>10.49</td>\n",
       "      <td>506.97</td>\n",
       "      <td>B</td>\n",
       "      <td>B3</td>\n",
       "      <td>Statistician</td>\n",
       "      <td>&lt; 1 year</td>\n",
       "      <td>RENT</td>\n",
       "      <td>43057.0</td>\n",
       "      <td>...</td>\n",
       "      <td>13.0</td>\n",
       "      <td>0.0</td>\n",
       "      <td>11987.0</td>\n",
       "      <td>92.2</td>\n",
       "      <td>26.0</td>\n",
       "      <td>f</td>\n",
       "      <td>INDIVIDUAL</td>\n",
       "      <td>0.0</td>\n",
       "      <td>0.0</td>\n",
       "      <td>87025 Mark Dale Apt. 269\\nNew Sabrina, WV 05113</td>\n",
       "    </tr>\n",
       "  </tbody>\n",
       "</table>\n",
       "<p>3 rows × 27 columns</p>\n",
       "</div>"
      ],
      "text/plain": [
       "   loan_amnt        term  int_rate  installment grade sub_grade  \\\n",
       "0    10000.0   36 months     11.44       329.48     B        B4   \n",
       "1     8000.0   36 months     11.99       265.68     B        B5   \n",
       "2    15600.0   36 months     10.49       506.97     B        B3   \n",
       "\n",
       "         emp_title emp_length home_ownership  annual_inc  ... open_acc  \\\n",
       "0        Marketing  10+ years           RENT    117000.0  ...     16.0   \n",
       "1  Credit analyst     4 years       MORTGAGE     65000.0  ...     17.0   \n",
       "2     Statistician   < 1 year           RENT     43057.0  ...     13.0   \n",
       "\n",
       "  pub_rec revol_bal revol_util total_acc  initial_list_status  \\\n",
       "0     0.0   36369.0       41.8      25.0                    w   \n",
       "1     0.0   20131.0       53.3      27.0                    f   \n",
       "2     0.0   11987.0       92.2      26.0                    f   \n",
       "\n",
       "  application_type  mort_acc  pub_rec_bankruptcies  \\\n",
       "0       INDIVIDUAL       0.0                   0.0   \n",
       "1       INDIVIDUAL       3.0                   0.0   \n",
       "2       INDIVIDUAL       0.0                   0.0   \n",
       "\n",
       "                                           address  \n",
       "0     0174 Michelle Gateway\\nMendozaberg, OK 22690  \n",
       "1  1076 Carney Fort Apt. 347\\nLoganmouth, SD 05113  \n",
       "2  87025 Mark Dale Apt. 269\\nNew Sabrina, WV 05113  \n",
       "\n",
       "[3 rows x 27 columns]"
      ]
     },
     "execution_count": 124,
     "metadata": {},
     "output_type": "execute_result"
    }
   ],
   "source": [
    "df.head(3)"
   ]
  },
  {
   "cell_type": "code",
   "execution_count": 125,
   "id": "458c5408-b6e7-4b30-bebe-89698add2b44",
   "metadata": {},
   "outputs": [
    {
     "name": "stdout",
     "output_type": "stream",
     "text": [
      "<class 'pandas.core.frame.DataFrame'>\n",
      "RangeIndex: 396030 entries, 0 to 396029\n",
      "Data columns (total 27 columns):\n",
      " #   Column                Non-Null Count   Dtype  \n",
      "---  ------                --------------   -----  \n",
      " 0   loan_amnt             396030 non-null  float64\n",
      " 1   term                  396030 non-null  object \n",
      " 2   int_rate              396030 non-null  float64\n",
      " 3   installment           396030 non-null  float64\n",
      " 4   grade                 396030 non-null  object \n",
      " 5   sub_grade             396030 non-null  object \n",
      " 6   emp_title             373103 non-null  object \n",
      " 7   emp_length            377729 non-null  object \n",
      " 8   home_ownership        396030 non-null  object \n",
      " 9   annual_inc            396030 non-null  float64\n",
      " 10  verification_status   396030 non-null  object \n",
      " 11  issue_d               396030 non-null  object \n",
      " 12  loan_status           396030 non-null  object \n",
      " 13  purpose               396030 non-null  object \n",
      " 14  title                 394274 non-null  object \n",
      " 15  dti                   396030 non-null  float64\n",
      " 16  earliest_cr_line      396030 non-null  object \n",
      " 17  open_acc              396030 non-null  float64\n",
      " 18  pub_rec               396030 non-null  float64\n",
      " 19  revol_bal             396030 non-null  float64\n",
      " 20  revol_util            395754 non-null  float64\n",
      " 21  total_acc             396030 non-null  float64\n",
      " 22  initial_list_status   396030 non-null  object \n",
      " 23  application_type      396030 non-null  object \n",
      " 24  mort_acc              358235 non-null  float64\n",
      " 25  pub_rec_bankruptcies  395495 non-null  float64\n",
      " 26  address               396030 non-null  object \n",
      "dtypes: float64(12), object(15)\n",
      "memory usage: 81.6+ MB\n"
     ]
    }
   ],
   "source": [
    "df.info()"
   ]
  },
  {
   "cell_type": "code",
   "execution_count": 126,
   "id": "914789fb-286b-4753-bee9-0f086d2dbe1a",
   "metadata": {
    "scrolled": true
   },
   "outputs": [
    {
     "data": {
      "text/html": [
       "<div>\n",
       "<style scoped>\n",
       "    .dataframe tbody tr th:only-of-type {\n",
       "        vertical-align: middle;\n",
       "    }\n",
       "\n",
       "    .dataframe tbody tr th {\n",
       "        vertical-align: top;\n",
       "    }\n",
       "\n",
       "    .dataframe thead th {\n",
       "        text-align: right;\n",
       "    }\n",
       "</style>\n",
       "<table border=\"1\" class=\"dataframe\">\n",
       "  <thead>\n",
       "    <tr style=\"text-align: right;\">\n",
       "      <th></th>\n",
       "      <th>loan_amnt</th>\n",
       "      <th>int_rate</th>\n",
       "      <th>installment</th>\n",
       "      <th>annual_inc</th>\n",
       "      <th>dti</th>\n",
       "      <th>open_acc</th>\n",
       "      <th>pub_rec</th>\n",
       "      <th>revol_bal</th>\n",
       "      <th>revol_util</th>\n",
       "      <th>total_acc</th>\n",
       "      <th>mort_acc</th>\n",
       "      <th>pub_rec_bankruptcies</th>\n",
       "    </tr>\n",
       "  </thead>\n",
       "  <tbody>\n",
       "    <tr>\n",
       "      <th>count</th>\n",
       "      <td>396030.000000</td>\n",
       "      <td>396030.000000</td>\n",
       "      <td>396030.000000</td>\n",
       "      <td>3.960300e+05</td>\n",
       "      <td>396030.000000</td>\n",
       "      <td>396030.000000</td>\n",
       "      <td>396030.000000</td>\n",
       "      <td>3.960300e+05</td>\n",
       "      <td>395754.000000</td>\n",
       "      <td>396030.000000</td>\n",
       "      <td>358235.000000</td>\n",
       "      <td>395495.000000</td>\n",
       "    </tr>\n",
       "    <tr>\n",
       "      <th>mean</th>\n",
       "      <td>14113.888089</td>\n",
       "      <td>13.639400</td>\n",
       "      <td>431.849698</td>\n",
       "      <td>7.420318e+04</td>\n",
       "      <td>17.379514</td>\n",
       "      <td>11.311153</td>\n",
       "      <td>0.178191</td>\n",
       "      <td>1.584454e+04</td>\n",
       "      <td>53.791749</td>\n",
       "      <td>25.414744</td>\n",
       "      <td>1.813991</td>\n",
       "      <td>0.121648</td>\n",
       "    </tr>\n",
       "    <tr>\n",
       "      <th>std</th>\n",
       "      <td>8357.441341</td>\n",
       "      <td>4.472157</td>\n",
       "      <td>250.727790</td>\n",
       "      <td>6.163762e+04</td>\n",
       "      <td>18.019092</td>\n",
       "      <td>5.137649</td>\n",
       "      <td>0.530671</td>\n",
       "      <td>2.059184e+04</td>\n",
       "      <td>24.452193</td>\n",
       "      <td>11.886991</td>\n",
       "      <td>2.147930</td>\n",
       "      <td>0.356174</td>\n",
       "    </tr>\n",
       "    <tr>\n",
       "      <th>min</th>\n",
       "      <td>500.000000</td>\n",
       "      <td>5.320000</td>\n",
       "      <td>16.080000</td>\n",
       "      <td>0.000000e+00</td>\n",
       "      <td>0.000000</td>\n",
       "      <td>0.000000</td>\n",
       "      <td>0.000000</td>\n",
       "      <td>0.000000e+00</td>\n",
       "      <td>0.000000</td>\n",
       "      <td>2.000000</td>\n",
       "      <td>0.000000</td>\n",
       "      <td>0.000000</td>\n",
       "    </tr>\n",
       "    <tr>\n",
       "      <th>25%</th>\n",
       "      <td>8000.000000</td>\n",
       "      <td>10.490000</td>\n",
       "      <td>250.330000</td>\n",
       "      <td>4.500000e+04</td>\n",
       "      <td>11.280000</td>\n",
       "      <td>8.000000</td>\n",
       "      <td>0.000000</td>\n",
       "      <td>6.025000e+03</td>\n",
       "      <td>35.800000</td>\n",
       "      <td>17.000000</td>\n",
       "      <td>0.000000</td>\n",
       "      <td>0.000000</td>\n",
       "    </tr>\n",
       "    <tr>\n",
       "      <th>50%</th>\n",
       "      <td>12000.000000</td>\n",
       "      <td>13.330000</td>\n",
       "      <td>375.430000</td>\n",
       "      <td>6.400000e+04</td>\n",
       "      <td>16.910000</td>\n",
       "      <td>10.000000</td>\n",
       "      <td>0.000000</td>\n",
       "      <td>1.118100e+04</td>\n",
       "      <td>54.800000</td>\n",
       "      <td>24.000000</td>\n",
       "      <td>1.000000</td>\n",
       "      <td>0.000000</td>\n",
       "    </tr>\n",
       "    <tr>\n",
       "      <th>75%</th>\n",
       "      <td>20000.000000</td>\n",
       "      <td>16.490000</td>\n",
       "      <td>567.300000</td>\n",
       "      <td>9.000000e+04</td>\n",
       "      <td>22.980000</td>\n",
       "      <td>14.000000</td>\n",
       "      <td>0.000000</td>\n",
       "      <td>1.962000e+04</td>\n",
       "      <td>72.900000</td>\n",
       "      <td>32.000000</td>\n",
       "      <td>3.000000</td>\n",
       "      <td>0.000000</td>\n",
       "    </tr>\n",
       "    <tr>\n",
       "      <th>max</th>\n",
       "      <td>40000.000000</td>\n",
       "      <td>30.990000</td>\n",
       "      <td>1533.810000</td>\n",
       "      <td>8.706582e+06</td>\n",
       "      <td>9999.000000</td>\n",
       "      <td>90.000000</td>\n",
       "      <td>86.000000</td>\n",
       "      <td>1.743266e+06</td>\n",
       "      <td>892.300000</td>\n",
       "      <td>151.000000</td>\n",
       "      <td>34.000000</td>\n",
       "      <td>8.000000</td>\n",
       "    </tr>\n",
       "  </tbody>\n",
       "</table>\n",
       "</div>"
      ],
      "text/plain": [
       "           loan_amnt       int_rate    installment    annual_inc  \\\n",
       "count  396030.000000  396030.000000  396030.000000  3.960300e+05   \n",
       "mean    14113.888089      13.639400     431.849698  7.420318e+04   \n",
       "std      8357.441341       4.472157     250.727790  6.163762e+04   \n",
       "min       500.000000       5.320000      16.080000  0.000000e+00   \n",
       "25%      8000.000000      10.490000     250.330000  4.500000e+04   \n",
       "50%     12000.000000      13.330000     375.430000  6.400000e+04   \n",
       "75%     20000.000000      16.490000     567.300000  9.000000e+04   \n",
       "max     40000.000000      30.990000    1533.810000  8.706582e+06   \n",
       "\n",
       "                 dti       open_acc        pub_rec     revol_bal  \\\n",
       "count  396030.000000  396030.000000  396030.000000  3.960300e+05   \n",
       "mean       17.379514      11.311153       0.178191  1.584454e+04   \n",
       "std        18.019092       5.137649       0.530671  2.059184e+04   \n",
       "min         0.000000       0.000000       0.000000  0.000000e+00   \n",
       "25%        11.280000       8.000000       0.000000  6.025000e+03   \n",
       "50%        16.910000      10.000000       0.000000  1.118100e+04   \n",
       "75%        22.980000      14.000000       0.000000  1.962000e+04   \n",
       "max      9999.000000      90.000000      86.000000  1.743266e+06   \n",
       "\n",
       "          revol_util      total_acc       mort_acc  pub_rec_bankruptcies  \n",
       "count  395754.000000  396030.000000  358235.000000         395495.000000  \n",
       "mean       53.791749      25.414744       1.813991              0.121648  \n",
       "std        24.452193      11.886991       2.147930              0.356174  \n",
       "min         0.000000       2.000000       0.000000              0.000000  \n",
       "25%        35.800000      17.000000       0.000000              0.000000  \n",
       "50%        54.800000      24.000000       1.000000              0.000000  \n",
       "75%        72.900000      32.000000       3.000000              0.000000  \n",
       "max       892.300000     151.000000      34.000000              8.000000  "
      ]
     },
     "execution_count": 126,
     "metadata": {},
     "output_type": "execute_result"
    }
   ],
   "source": [
    "df.describe()"
   ]
  },
  {
   "cell_type": "markdown",
   "id": "05a96336-7138-4b58-9843-88b43a7b8a75",
   "metadata": {},
   "source": [
    "### Remove Unnecessary Columns"
   ]
  },
  {
   "cell_type": "code",
   "execution_count": 127,
   "id": "f8b47dd5-f5ce-45eb-962e-5bfafecd89e5",
   "metadata": {},
   "outputs": [
    {
     "data": {
      "text/plain": [
       "Index(['loan_amnt', 'term', 'int_rate', 'installment', 'grade', 'sub_grade',\n",
       "       'emp_title', 'emp_length', 'home_ownership', 'annual_inc',\n",
       "       'verification_status', 'issue_d', 'loan_status', 'purpose', 'title',\n",
       "       'dti', 'earliest_cr_line', 'open_acc', 'pub_rec', 'revol_bal',\n",
       "       'revol_util', 'total_acc', 'initial_list_status', 'application_type',\n",
       "       'mort_acc', 'pub_rec_bankruptcies', 'address'],\n",
       "      dtype='object')"
      ]
     },
     "execution_count": 127,
     "metadata": {},
     "output_type": "execute_result"
    }
   ],
   "source": [
    "df.columns"
   ]
  },
  {
   "cell_type": "code",
   "execution_count": 128,
   "id": "67ccec4f-663e-48dd-b952-be99e649fc56",
   "metadata": {
    "scrolled": true
   },
   "outputs": [],
   "source": [
    "\n",
    "df.drop(['emp_title' , 'initial_list_status' , 'application_type' , 'mort_acc' , 'address','issue_d','purpose','title' ,'pub_rec' ], axis=1 , inplace = True )"
   ]
  },
  {
   "cell_type": "markdown",
   "id": "253d5b0b-3137-4de3-a6bf-c645b1d46121",
   "metadata": {},
   "source": [
    "\n",
    "### Fix data types  "
   ]
  },
  {
   "cell_type": "code",
   "execution_count": 129,
   "id": "0a3eeaa0-e218-4882-b546-031fc3e24947",
   "metadata": {},
   "outputs": [
    {
     "data": {
      "text/plain": [
       "loan_amnt               float64\n",
       "term                     object\n",
       "int_rate                float64\n",
       "installment             float64\n",
       "grade                    object\n",
       "sub_grade                object\n",
       "emp_length               object\n",
       "home_ownership           object\n",
       "annual_inc              float64\n",
       "verification_status      object\n",
       "loan_status              object\n",
       "dti                     float64\n",
       "earliest_cr_line         object\n",
       "open_acc                float64\n",
       "revol_bal               float64\n",
       "revol_util              float64\n",
       "total_acc               float64\n",
       "pub_rec_bankruptcies    float64\n",
       "dtype: object"
      ]
     },
     "execution_count": 129,
     "metadata": {},
     "output_type": "execute_result"
    }
   ],
   "source": [
    "df.dtypes"
   ]
  },
  {
   "cell_type": "code",
   "execution_count": 130,
   "id": "57ac875a-434c-4255-934f-2f6c2db12547",
   "metadata": {
    "jupyter": {
     "source_hidden": true
    }
   },
   "outputs": [],
   "source": [
    "\n",
    "categorical_cols = ['term', 'grade', 'sub_grade', 'verification_status', 'home_ownership', \n",
    "                    'loan_status']\n",
    "for col in categorical_cols : \n",
    "   df[col] =  df[col].astype('category')"
   ]
  },
  {
   "cell_type": "code",
   "execution_count": 131,
   "id": "7d1cebb8-f4d4-41a6-9d34-507aafc3d893",
   "metadata": {
    "jupyter": {
     "source_hidden": true
    }
   },
   "outputs": [],
   "source": [
    "df['loan_amnt'] = df['loan_amnt'].replace({r'\\$' : '' , ',' : ''} , regex = True).astype(float)"
   ]
  },
  {
   "cell_type": "code",
   "execution_count": 132,
   "id": "9b6a71e9-20af-4f77-b7c5-62a19dc87957",
   "metadata": {
    "scrolled": true
   },
   "outputs": [
    {
     "data": {
      "text/plain": [
       "loan_amnt                float64\n",
       "term                    category\n",
       "int_rate                 float64\n",
       "installment              float64\n",
       "grade                   category\n",
       "sub_grade               category\n",
       "emp_length                object\n",
       "home_ownership          category\n",
       "annual_inc               float64\n",
       "verification_status     category\n",
       "loan_status             category\n",
       "dti                      float64\n",
       "earliest_cr_line          object\n",
       "open_acc                 float64\n",
       "revol_bal                float64\n",
       "revol_util               float64\n",
       "total_acc                float64\n",
       "pub_rec_bankruptcies     float64\n",
       "dtype: object"
      ]
     },
     "execution_count": 132,
     "metadata": {},
     "output_type": "execute_result"
    }
   ],
   "source": [
    "df.dtypes"
   ]
  },
  {
   "cell_type": "markdown",
   "id": "3a81f52c-39c1-4db8-9c37-ec75231194ed",
   "metadata": {},
   "source": [
    "### Understand Missing Data"
   ]
  },
  {
   "cell_type": "code",
   "execution_count": 133,
   "id": "e278f955-abd0-48a6-b364-3a0963c428c4",
   "metadata": {},
   "outputs": [
    {
     "data": {
      "text/plain": [
       "loan_amnt                   0\n",
       "term                        0\n",
       "int_rate                    0\n",
       "installment                 0\n",
       "grade                       0\n",
       "sub_grade                   0\n",
       "emp_length              18301\n",
       "home_ownership              0\n",
       "annual_inc                  0\n",
       "verification_status         0\n",
       "loan_status                 0\n",
       "dti                         0\n",
       "earliest_cr_line            0\n",
       "open_acc                    0\n",
       "revol_bal                   0\n",
       "revol_util                276\n",
       "total_acc                   0\n",
       "pub_rec_bankruptcies      535\n",
       "dtype: int64"
      ]
     },
     "execution_count": 133,
     "metadata": {},
     "output_type": "execute_result"
    }
   ],
   "source": [
    "df.isnull().sum()"
   ]
  },
  {
   "cell_type": "code",
   "execution_count": 134,
   "id": "aecf4a99-93c7-45c8-8df6-3030d87779f2",
   "metadata": {
    "jupyter": {
     "source_hidden": true
    }
   },
   "outputs": [
    {
     "data": {
      "image/png": "[encoded data removed]",
      "text/plain": [
       "<Figure size 600x300 with 1 Axes>"
      ]
     },
     "metadata": {},
     "output_type": "display_data"
    }
   ],
   "source": [
    "# checking missing value with heatmap .\n",
    "plt.figure(figsize=(6,3))\n",
    "sns.heatmap(df.isnull(), cmap=\"viridis\", cbar=False, yticklabels=False , color = '#4B0082')\n",
    "plt.show()"
   ]
  },
  {
   "cell_type": "markdown",
   "id": "0cf935a6-30c4-4853-9b89-3cbafe3f4aef",
   "metadata": {},
   "source": [
    "### Imputation For Misssing Data"
   ]
  },
  {
   "cell_type": "code",
   "execution_count": 135,
   "id": "5b9d5392-81ca-41bd-ac1f-8d3921996031",
   "metadata": {},
   "outputs": [],
   "source": [
    "#   revol_util\n",
    "# I am gonna Use median because percentage values are numeric and the median is robust to outliers.\n",
    "df['revol_util'] = df['revol_util'].fillna(df['revol_util'].median())  "
   ]
  },
  {
   "cell_type": "code",
   "execution_count": 136,
   "id": "1b909856-bb26-4684-8c54-3f782b61793f",
   "metadata": {},
   "outputs": [],
   "source": [
    "# Fill missing values in 'emp_length' with the most frequent value\n",
    "df['emp_length'] = df['emp_length'].fillna(df['emp_length'].mode()[0])"
   ]
  },
  {
   "cell_type": "code",
   "execution_count": 137,
   "id": "5bf87e0c-b4ca-4049-a17c-01b26bea15b4",
   "metadata": {
    "jupyter": {
     "source_hidden": true
    }
   },
   "outputs": [
    {
     "data": {
      "image/png": "[encoded data removed]",
      "text/plain": [
       "<Figure size 700x500 with 1 Axes>"
      ]
     },
     "metadata": {},
     "output_type": "display_data"
    }
   ],
   "source": [
    "plt.figure(figsize=(7,5))\n",
    "sns.boxplot(data=df[['loan_amnt', 'int_rate', 'installment', 'annual_inc', 'dti']] , color='#4B0082')\n",
    "plt.xticks(rotation=45)\n",
    "plt.title(\"Box Plot of Numeric Features\")\n",
    "plt.show()"
   ]
  },
  {
   "cell_type": "markdown",
   "id": "7866217f-a310-4e86-9b12-8138baf8a34d",
   "metadata": {},
   "source": [
    "###   Outliers removal"
   ]
  },
  {
   "cell_type": "code",
   "execution_count": 138,
   "id": "9d0682c9-a8ee-4458-8a45-9712e0c28d8c",
   "metadata": {},
   "outputs": [
    {
     "name": "stdout",
     "output_type": "stream",
     "text": [
      "Removed 275 outliers from 'dti'\n",
      "Removed 10280 outliers from 'open_acc'\n",
      "Removed 12 outliers from 'revol_util'\n"
     ]
    }
   ],
   "source": [
    "# we will use IQR for the following columns 'pub_rec', 'dti', 'open_acc' , 'revol_util' Cause its outliers doesn't make sence or they may errors \n",
    "df_original = df.copy()\n",
    "\n",
    "def remove_outliers(df, columns):\n",
    "    for col in columns:\n",
    "        \n",
    "        Q1 = df[col].quantile(0.25)\n",
    "        Q3 = df[col].quantile(0.75)\n",
    "        \n",
    "        IQR = Q3 - Q1\n",
    "\n",
    "        lower_bound = Q1 - 1.5 * IQR\n",
    "        upper_bound = Q3 + 1.5 * IQR\n",
    "\n",
    "        before_count = df.shape[0] \n",
    "        df = df[(df[col] >= lower_bound) & (df[col] <= upper_bound)]\n",
    "        after_count = df.shape[0] \n",
    "\n",
    "        print(f\"Removed {before_count - after_count} outliers from '{col}'\")\n",
    "\n",
    "    return df \n",
    "\n",
    "outlier_con_columns = ['dti', 'open_acc' , 'revol_util']\n",
    "df = remove_outliers(df, outlier_con_columns)"
   ]
  },
  {
   "cell_type": "code",
   "execution_count": 139,
   "id": "a2c218a5-a78f-45b6-994b-6021a250873b",
   "metadata": {
    "jupyter": {
     "source_hidden": true
    }
   },
   "outputs": [],
   "source": [
    "# we will use 'winsorization' method for those outliers that are not necesserly errors but it's a valueble information.\n",
    "def winsorization(series , lower_percentile=1 , upper_percentile=99): \n",
    "    lower_bond = np.percentile(series , lower_percentile)\n",
    "    upper_bond = np.percentile(series , upper_percentile)\n",
    "    return np.clip(series , lower_bond , upper_bond) \n",
    "\n",
    "df['loan_amnt'] = winsorization(df['loan_amnt'])\n",
    "df['int_rate'] = winsorization(df['int_rate'])\n",
    "df['installment'] = winsorization(df['installment'])\n",
    "df['total_acc'] = winsorization(df['total_acc'])\n",
    "df['pub_rec_bankruptcies'] = winsorization(df['pub_rec_bankruptcies'])"
   ]
  },
  {
   "cell_type": "code",
   "execution_count": 140,
   "id": "3adbce51-f6e5-4504-ae4b-418b7e80b8f1",
   "metadata": {
    "jupyter": {
     "source_hidden": true
    }
   },
   "outputs": [],
   "source": [
    "# the two columns revol_bal and annual_income may not have outliers so we will use 'LOG TRANSFORMATION' for skewed data \n",
    "df['annual_inc'] = np.log1p(df['annual_inc'])\n",
    "df['revol_bal'] = np.log1p(df['revol_bal'])"
   ]
  },
  {
   "cell_type": "code",
   "execution_count": 141,
   "id": "860ecdaa-0f0a-4ab4-ab57-ef827b61ea76",
   "metadata": {
    "jupyter": {
     "source_hidden": true
    }
   },
   "outputs": [
    {
     "data": {
      "image/png": "[encoded data removed]",
      "text/plain": [
       "<Figure size 1400x700 with 6 Axes>"
      ]
     },
     "metadata": {},
     "output_type": "display_data"
    }
   ],
   "source": [
    "# Visualize selected numerical columns after cleaning\n",
    "fig, axes = plt.subplots(2, 3, figsize=(14, 7) )\n",
    "selected_cols = ['loan_amnt', 'annual_inc', 'dti', 'int_rate', 'revol_bal', 'revol_util']\n",
    "\n",
    "for i, col in enumerate(selected_cols):\n",
    "    sns.histplot(df[col], bins=40, kde=True, ax=axes[i//3, i%3] , color='red' )\n",
    "    axes[i//3, i%3].set_title(f'Distribution of {col} After Outlier Removal')\n",
    "\n",
    "plt.tight_layout()\n",
    "plt.show()"
   ]
  },
  {
   "cell_type": "markdown",
   "id": "7c5b723d-f519-41f4-aa05-8861dd30088c",
   "metadata": {},
   "source": [
    "###     Feature Engineering"
   ]
  },
  {
   "cell_type": "code",
   "execution_count": 142,
   "id": "6a9027f6-db4d-4127-b8c4-c50169ea8480",
   "metadata": {},
   "outputs": [],
   "source": [
    "df_cleaned = df.copy()"
   ]
  },
  {
   "cell_type": "code",
   "execution_count": 143,
   "id": "7f8d718b-65a6-4b2e-b167-a1bad5000d28",
   "metadata": {},
   "outputs": [
    {
     "data": {
      "text/html": [
       "<div>\n",
       "<style scoped>\n",
       "    .dataframe tbody tr th:only-of-type {\n",
       "        vertical-align: middle;\n",
       "    }\n",
       "\n",
       "    .dataframe tbody tr th {\n",
       "        vertical-align: top;\n",
       "    }\n",
       "\n",
       "    .dataframe thead th {\n",
       "        text-align: right;\n",
       "    }\n",
       "</style>\n",
       "<table border=\"1\" class=\"dataframe\">\n",
       "  <thead>\n",
       "    <tr style=\"text-align: right;\">\n",
       "      <th></th>\n",
       "      <th>loan_amnt</th>\n",
       "      <th>term</th>\n",
       "      <th>int_rate</th>\n",
       "      <th>installment</th>\n",
       "      <th>grade</th>\n",
       "      <th>sub_grade</th>\n",
       "      <th>emp_length</th>\n",
       "      <th>home_ownership</th>\n",
       "      <th>annual_inc</th>\n",
       "      <th>verification_status</th>\n",
       "      <th>loan_status</th>\n",
       "      <th>dti</th>\n",
       "      <th>earliest_cr_line</th>\n",
       "      <th>open_acc</th>\n",
       "      <th>revol_bal</th>\n",
       "      <th>revol_util</th>\n",
       "      <th>total_acc</th>\n",
       "      <th>pub_rec_bankruptcies</th>\n",
       "    </tr>\n",
       "  </thead>\n",
       "  <tbody>\n",
       "    <tr>\n",
       "      <th>0</th>\n",
       "      <td>10000.0</td>\n",
       "      <td>36 months</td>\n",
       "      <td>11.44</td>\n",
       "      <td>329.48</td>\n",
       "      <td>B</td>\n",
       "      <td>B4</td>\n",
       "      <td>10+ years</td>\n",
       "      <td>RENT</td>\n",
       "      <td>11.669938</td>\n",
       "      <td>Not Verified</td>\n",
       "      <td>Fully Paid</td>\n",
       "      <td>26.24</td>\n",
       "      <td>Jun-1990</td>\n",
       "      <td>16.0</td>\n",
       "      <td>10.501500</td>\n",
       "      <td>41.8</td>\n",
       "      <td>25.0</td>\n",
       "      <td>0.0</td>\n",
       "    </tr>\n",
       "    <tr>\n",
       "      <th>1</th>\n",
       "      <td>8000.0</td>\n",
       "      <td>36 months</td>\n",
       "      <td>11.99</td>\n",
       "      <td>265.68</td>\n",
       "      <td>B</td>\n",
       "      <td>B5</td>\n",
       "      <td>4 years</td>\n",
       "      <td>MORTGAGE</td>\n",
       "      <td>11.082158</td>\n",
       "      <td>Not Verified</td>\n",
       "      <td>Fully Paid</td>\n",
       "      <td>22.05</td>\n",
       "      <td>Jul-2004</td>\n",
       "      <td>17.0</td>\n",
       "      <td>9.910066</td>\n",
       "      <td>53.3</td>\n",
       "      <td>27.0</td>\n",
       "      <td>0.0</td>\n",
       "    </tr>\n",
       "    <tr>\n",
       "      <th>2</th>\n",
       "      <td>15600.0</td>\n",
       "      <td>36 months</td>\n",
       "      <td>10.49</td>\n",
       "      <td>506.97</td>\n",
       "      <td>B</td>\n",
       "      <td>B3</td>\n",
       "      <td>&lt; 1 year</td>\n",
       "      <td>RENT</td>\n",
       "      <td>10.670303</td>\n",
       "      <td>Source Verified</td>\n",
       "      <td>Fully Paid</td>\n",
       "      <td>12.79</td>\n",
       "      <td>Aug-2007</td>\n",
       "      <td>13.0</td>\n",
       "      <td>9.391661</td>\n",
       "      <td>92.2</td>\n",
       "      <td>26.0</td>\n",
       "      <td>0.0</td>\n",
       "    </tr>\n",
       "  </tbody>\n",
       "</table>\n",
       "</div>"
      ],
      "text/plain": [
       "   loan_amnt        term  int_rate  installment grade sub_grade emp_length  \\\n",
       "0    10000.0   36 months     11.44       329.48     B        B4  10+ years   \n",
       "1     8000.0   36 months     11.99       265.68     B        B5    4 years   \n",
       "2    15600.0   36 months     10.49       506.97     B        B3   < 1 year   \n",
       "\n",
       "  home_ownership  annual_inc verification_status loan_status    dti  \\\n",
       "0           RENT   11.669938        Not Verified  Fully Paid  26.24   \n",
       "1       MORTGAGE   11.082158        Not Verified  Fully Paid  22.05   \n",
       "2           RENT   10.670303     Source Verified  Fully Paid  12.79   \n",
       "\n",
       "  earliest_cr_line  open_acc  revol_bal  revol_util  total_acc  \\\n",
       "0         Jun-1990      16.0  10.501500        41.8       25.0   \n",
       "1         Jul-2004      17.0   9.910066        53.3       27.0   \n",
       "2         Aug-2007      13.0   9.391661        92.2       26.0   \n",
       "\n",
       "   pub_rec_bankruptcies  \n",
       "0                   0.0  \n",
       "1                   0.0  \n",
       "2                   0.0  "
      ]
     },
     "execution_count": 143,
     "metadata": {},
     "output_type": "execute_result"
    }
   ],
   "source": [
    "df_cleaned.head(3)"
   ]
  },
  {
   "cell_type": "code",
   "execution_count": 144,
   "id": "c5355985-9658-4ba6-81dd-68456136b54a",
   "metadata": {
    "jupyter": {
     "source_hidden": true
    }
   },
   "outputs": [],
   "source": [
    "# new column loan to income ratio\n",
    "df['loan_to_income_ratio'] = df['loan_amnt'] / df['annual_inc']"
   ]
  },
  {
   "cell_type": "code",
   "execution_count": 145,
   "id": "ec2dae16-1ad9-4215-9251-7318d45b4464",
   "metadata": {
    "jupyter": {
     "source_hidden": true
    }
   },
   "outputs": [],
   "source": [
    "# another column installment to income \n",
    "df['monthly_inc'] = df['annual_inc'] / 12\n",
    "df['installment_to_income'] = df['monthly_inc'] / df['installment']"
   ]
  },
  {
   "cell_type": "code",
   "execution_count": 146,
   "id": "0f8d523d-f4c1-4e87-ac0e-3235e01b7347",
   "metadata": {
    "jupyter": {
     "source_hidden": true
    }
   },
   "outputs": [],
   "source": [
    "# credit age\n",
    "df['earliest_cr_line'] = pd.to_datetime(df['earliest_cr_line'], format = '%b-%Y' , errors='coerce')\n",
    "df['credit_age'] = (pd.Timestamp.today() - df['earliest_cr_line']).dt.days / 365.25\n",
    "df['credit_age'] = df['earliest_cr_line'].dt.strftime('%b-%Y')"
   ]
  },
  {
   "cell_type": "code",
   "execution_count": 147,
   "id": "cf079a84-adb1-4bc8-abc7-97e873b825fa",
   "metadata": {
    "jupyter": {
     "source_hidden": true
    }
   },
   "outputs": [],
   "source": [
    "# One-Hot Encoding With drop_first = True for homeOwnership \n",
    "df = pd.get_dummies(df, columns=['home_ownership'], drop_first=True)\n",
    "\n",
    "for col in df.select_dtypes(include=['bool']).columns:\n",
    "    df[col] = df[col].astype(int)"
   ]
  },
  {
   "cell_type": "code",
   "execution_count": 148,
   "id": "6c450d0d-8a1d-4a35-8b2f-af152e55dadf",
   "metadata": {
    "jupyter": {
     "source_hidden": true
    }
   },
   "outputs": [],
   "source": [
    "# term in months \n",
    "df['term_in_months'] = df['term'].str.extract('(\\\\d+)').astype(int)"
   ]
  },
  {
   "cell_type": "code",
   "execution_count": 149,
   "id": "a75df60f-089a-4b06-ade7-076b4b77ad39",
   "metadata": {
    "jupyter": {
     "source_hidden": true
    }
   },
   "outputs": [],
   "source": [
    "# number for emp_length \n",
    "order = ['< 1 year', '1 year', '2 years', '3 years', '4 years', '5 years', \n",
    "         '6 years', '7 years', '8 years', '9 years', '10+ years']\n",
    "\n",
    "df['emp_length_encoded'] = pd.Categorical(df['emp_length'], categories=order, ordered=True).codes                                            "
   ]
  },
  {
   "cell_type": "code",
   "execution_count": 150,
   "id": "6931c2f4-0f5c-4306-beac-10072ecfe527",
   "metadata": {
    "jupyter": {
     "source_hidden": true
    }
   },
   "outputs": [],
   "source": [
    "# numbers for each grade so model can understand \n",
    "grade_order = {'A': 7, 'B': 6, 'C': 5, 'D': 4, 'E': 3, 'F': 2, 'G': 1}\n",
    "df['grade_encoded'] = df['grade'].map(grade_order)"
   ]
  },
  {
   "cell_type": "code",
   "execution_count": 151,
   "id": "e7f36f3d-c0eb-4c81-9eb7-29d873abae28",
   "metadata": {
    "jupyter": {
     "source_hidden": true
    }
   },
   "outputs": [],
   "source": [
    "# Encoding sub_grade  (   A1 is best, G5 is worst   )\n",
    "sub_grade_order = [f\"{g}{n}\" for g in \"ABCDEFG\" for n in range(1, 6)] \n",
    "df['sub_grade_encoded'] = pd.Categorical(df['sub_grade'], categories=sub_grade_order, ordered=True).codes"
   ]
  },
  {
   "cell_type": "code",
   "execution_count": 152,
   "id": "28c9927d-e0c1-47dd-99b4-b86549aebca4",
   "metadata": {},
   "outputs": [],
   "source": [
    "# decoding loan status for prediction \n",
    "df['loan_status_decode'] = df['loan_status']\n",
    "df['loan_status_decode'] = df['loan_status_decode'].map({'Fully Paid' : 0 , 'Charged Off' : 1 })"
   ]
  },
  {
   "cell_type": "code",
   "execution_count": 153,
   "id": "8b8b4a36-c5e5-4704-bba1-9220e03de14d",
   "metadata": {},
   "outputs": [
    {
     "data": {
      "text/html": [
       "<div>\n",
       "<style scoped>\n",
       "    .dataframe tbody tr th:only-of-type {\n",
       "        vertical-align: middle;\n",
       "    }\n",
       "\n",
       "    .dataframe tbody tr th {\n",
       "        vertical-align: top;\n",
       "    }\n",
       "\n",
       "    .dataframe thead th {\n",
       "        text-align: right;\n",
       "    }\n",
       "</style>\n",
       "<table border=\"1\" class=\"dataframe\">\n",
       "  <thead>\n",
       "    <tr style=\"text-align: right;\">\n",
       "      <th></th>\n",
       "      <th>loan_amnt</th>\n",
       "      <th>term</th>\n",
       "      <th>int_rate</th>\n",
       "      <th>installment</th>\n",
       "      <th>grade</th>\n",
       "      <th>sub_grade</th>\n",
       "      <th>emp_length</th>\n",
       "      <th>annual_inc</th>\n",
       "      <th>verification_status</th>\n",
       "      <th>loan_status</th>\n",
       "      <th>...</th>\n",
       "      <th>home_ownership_MORTGAGE</th>\n",
       "      <th>home_ownership_NONE</th>\n",
       "      <th>home_ownership_OTHER</th>\n",
       "      <th>home_ownership_OWN</th>\n",
       "      <th>home_ownership_RENT</th>\n",
       "      <th>term_in_months</th>\n",
       "      <th>emp_length_encoded</th>\n",
       "      <th>grade_encoded</th>\n",
       "      <th>sub_grade_encoded</th>\n",
       "      <th>loan_status_decode</th>\n",
       "    </tr>\n",
       "  </thead>\n",
       "  <tbody>\n",
       "    <tr>\n",
       "      <th>0</th>\n",
       "      <td>10000.0</td>\n",
       "      <td>36 months</td>\n",
       "      <td>11.44</td>\n",
       "      <td>329.48</td>\n",
       "      <td>B</td>\n",
       "      <td>B4</td>\n",
       "      <td>10+ years</td>\n",
       "      <td>11.669938</td>\n",
       "      <td>Not Verified</td>\n",
       "      <td>Fully Paid</td>\n",
       "      <td>...</td>\n",
       "      <td>0</td>\n",
       "      <td>0</td>\n",
       "      <td>0</td>\n",
       "      <td>0</td>\n",
       "      <td>1</td>\n",
       "      <td>36</td>\n",
       "      <td>10</td>\n",
       "      <td>6</td>\n",
       "      <td>8</td>\n",
       "      <td>0</td>\n",
       "    </tr>\n",
       "    <tr>\n",
       "      <th>1</th>\n",
       "      <td>8000.0</td>\n",
       "      <td>36 months</td>\n",
       "      <td>11.99</td>\n",
       "      <td>265.68</td>\n",
       "      <td>B</td>\n",
       "      <td>B5</td>\n",
       "      <td>4 years</td>\n",
       "      <td>11.082158</td>\n",
       "      <td>Not Verified</td>\n",
       "      <td>Fully Paid</td>\n",
       "      <td>...</td>\n",
       "      <td>1</td>\n",
       "      <td>0</td>\n",
       "      <td>0</td>\n",
       "      <td>0</td>\n",
       "      <td>0</td>\n",
       "      <td>36</td>\n",
       "      <td>4</td>\n",
       "      <td>6</td>\n",
       "      <td>9</td>\n",
       "      <td>0</td>\n",
       "    </tr>\n",
       "  </tbody>\n",
       "</table>\n",
       "<p>2 rows × 31 columns</p>\n",
       "</div>"
      ],
      "text/plain": [
       "   loan_amnt        term  int_rate  installment grade sub_grade emp_length  \\\n",
       "0    10000.0   36 months     11.44       329.48     B        B4  10+ years   \n",
       "1     8000.0   36 months     11.99       265.68     B        B5    4 years   \n",
       "\n",
       "   annual_inc verification_status loan_status  ...  home_ownership_MORTGAGE  \\\n",
       "0   11.669938        Not Verified  Fully Paid  ...                        0   \n",
       "1   11.082158        Not Verified  Fully Paid  ...                        1   \n",
       "\n",
       "  home_ownership_NONE  home_ownership_OTHER  home_ownership_OWN  \\\n",
       "0                   0                     0                   0   \n",
       "1                   0                     0                   0   \n",
       "\n",
       "   home_ownership_RENT  term_in_months  emp_length_encoded  grade_encoded  \\\n",
       "0                    1              36                  10              6   \n",
       "1                    0              36                   4              6   \n",
       "\n",
       "   sub_grade_encoded  loan_status_decode  \n",
       "0                  8                   0  \n",
       "1                  9                   0  \n",
       "\n",
       "[2 rows x 31 columns]"
      ]
     },
     "execution_count": 153,
     "metadata": {},
     "output_type": "execute_result"
    }
   ],
   "source": [
    "df.head(2)\n"
   ]
  },
  {
   "cell_type": "code",
   "execution_count": 154,
   "id": "3d8458e9-7fba-4307-ba92-3fc257c25f0f",
   "metadata": {
    "jupyter": {
     "source_hidden": true
    }
   },
   "outputs": [
    {
     "name": "stdout",
     "output_type": "stream",
     "text": [
      "verification_status\n",
      "Verified           135150\n",
      "Source Verified    127951\n",
      "Not Verified       122362\n",
      "Name: count, dtype: int64\n"
     ]
    }
   ],
   "source": [
    "print(df['verification_status'].value_counts())"
   ]
  },
  {
   "cell_type": "code",
   "execution_count": 155,
   "id": "4f1dab5a-e138-4607-9f3d-74453d507059",
   "metadata": {
    "jupyter": {
     "source_hidden": true
    }
   },
   "outputs": [],
   "source": [
    "df = pd.get_dummies(df, columns=['verification_status'], drop_first=True)\n",
    "\n",
    "#it showing 'bool' data types we have to convert it to 'integer' so model will understand it better \n",
    "for col in df.select_dtypes(include=['bool']).columns:\n",
    "    df[col] = df[col].astype(int)"
   ]
  },
  {
   "cell_type": "code",
   "execution_count": 156,
   "id": "5c959daa-32cb-4257-b8d9-09ba690be21e",
   "metadata": {},
   "outputs": [],
   "source": [
    "df_transformed = df.copy()"
   ]
  },
  {
   "cell_type": "markdown",
   "id": "198d3b6c-bc30-4f92-a202-d33b6ac84875",
   "metadata": {},
   "source": [
    "###      Train-Test Split , Standard Scaling and Handling Imbalanced Data"
   ]
  },
  {
   "cell_type": "code",
   "execution_count": 174,
   "id": "7aaddf1f",
   "metadata": {},
   "outputs": [],
   "source": [
    "# Drop raw categorical columns and target from the features\n",
    "un_usfull = ['term', 'grade', 'sub_grade', 'emp_length', 'loan_status', 'earliest_cr_line', 'credit_age' ]\n",
    "X = df.drop(columns = un_usfull + ['loan_status_decode', 'loan_to_income_ratio' , 'installment', 'pub_rec_bankruptcies'\n",
    "                                    , 'monthly_inc'])# VIF of these columns are very high so i need to remove it  \n",
    "\n",
    "# X = df.drop(columns = un_usfull + ['loan_status_decode', 'pub_rec_bankruptcies',\n",
    "#                                    'installment'])# VIF of these columns are very high so i need to remove it  \n",
    " \n",
    "y = df['loan_status_decode']"
   ]
  },
  {
   "cell_type": "code",
   "execution_count": 158,
   "id": "c21bb9d4-109c-482c-b3cc-dc3b7137e2eb",
   "metadata": {
    "scrolled": true
   },
   "outputs": [],
   "source": [
    "\n",
    "# # Split the data 80% training, 20% testing\n",
    "# X_train, X_test, y_train, y_test = train_test_split(X, y, test_size=0.2, random_state=42)\n",
    "\n",
    "# # rus = RandomUnderSampler(random_state=42)\n",
    "# # X, y = rus.fit_resample(x, y)\n",
    "# # print(\"Class Distribution After Undersampling:\")\n",
    "# # print(y.value_counts())\n",
    "\n",
    "# scaler = StandardScaler()\n",
    "\n",
    "# # Fit on training data and transform both training and test data\n",
    "# x_train_scaled = scaler.fit_transform(X_train)\n",
    "# x_test_scaled = scaler.transform(X_test)  \n",
    "\n",
    "# x_train_scaled = pd.DataFrame(x_train_scaled, columns=X_train.columns)\n",
    "# x_test_scaled = pd.DataFrame(x_test_scaled, columns=X_test.columns)\n",
    "\n",
    "\n",
    "# # print(\"Scaled Training Features\")\n",
    "# # print(x_train_scaled)"
   ]
  },
  {
   "cell_type": "code",
   "execution_count": 159,
   "id": "d0aa4a74",
   "metadata": {},
   "outputs": [],
   "source": [
    "from imblearn.under_sampling import RandomUnderSampler\n",
    "from sklearn.model_selection import train_test_split\n",
    "from imblearn.over_sampling import SMOTE"
   ]
  },
  {
   "cell_type": "code",
   "execution_count": 176,
   "id": "e193b784",
   "metadata": {},
   "outputs": [
    {
     "name": "stdout",
     "output_type": "stream",
     "text": [
      "Class Distribution After SMOTE:\n",
      "loan_status_decode\n",
      "1    248275\n",
      "0    248275\n",
      "Name: count, dtype: int64\n",
      "Series([], dtype: int64)\n",
      "loan_amnt                              0\n",
      "int_rate                               0\n",
      "annual_inc                             0\n",
      "dti                                    0\n",
      "open_acc                               0\n",
      "revol_bal                              0\n",
      "revol_util                             0\n",
      "total_acc                              0\n",
      "installment_to_income                  0\n",
      "home_ownership_MORTGAGE                0\n",
      "home_ownership_NONE                    0\n",
      "home_ownership_OTHER                   0\n",
      "home_ownership_OWN                     0\n",
      "home_ownership_RENT                    0\n",
      "term_in_months                         0\n",
      "emp_length_encoded                     0\n",
      "grade_encoded                          0\n",
      "sub_grade_encoded                      0\n",
      "verification_status_Source Verified    0\n",
      "verification_status_Verified           0\n",
      "dtype: int64\n"
     ]
    },
    {
     "ename": "ValueError",
     "evalue": "The feature names should match those that were passed during fit.\nFeature names unseen at fit time:\n- grade_encoded\n",
     "output_type": "error",
     "traceback": [
      "\u001b[1;31m---------------------------------------------------------------------------\u001b[0m",
      "\u001b[1;31mValueError\u001b[0m                                Traceback (most recent call last)",
      "Cell \u001b[1;32mIn[176], line 23\u001b[0m\n\u001b[0;32m     21\u001b[0m scaler \u001b[38;5;241m=\u001b[39m StandardScaler()\n\u001b[0;32m     22\u001b[0m x_train_scaled \u001b[38;5;241m=\u001b[39m scaler\u001b[38;5;241m.\u001b[39mfit_transform(X_train_res)\n\u001b[1;32m---> 23\u001b[0m x_test_scaled \u001b[38;5;241m=\u001b[39m \u001b[43mscaler\u001b[49m\u001b[38;5;241;43m.\u001b[39;49m\u001b[43mtransform\u001b[49m\u001b[43m(\u001b[49m\u001b[43mX_test\u001b[49m\u001b[43m)\u001b[49m  \n\u001b[0;32m     25\u001b[0m \u001b[38;5;66;03m# After SMOTE\u001b[39;00m\n\u001b[0;32m     26\u001b[0m \u001b[38;5;28mprint\u001b[39m(\u001b[38;5;124m\"\u001b[39m\u001b[38;5;124mNaNs in X_train_res:\u001b[39m\u001b[38;5;124m\"\u001b[39m, pd\u001b[38;5;241m.\u001b[39mDataFrame(X_train_res)\u001b[38;5;241m.\u001b[39misna()\u001b[38;5;241m.\u001b[39msum()\u001b[38;5;241m.\u001b[39msum())\n",
      "File \u001b[1;32mc:\\Users\\city computers\\AppData\\Local\\Programs\\Python\\Python312\\Lib\\site-packages\\sklearn\\utils\\_set_output.py:319\u001b[0m, in \u001b[0;36m_wrap_method_output.<locals>.wrapped\u001b[1;34m(self, X, *args, **kwargs)\u001b[0m\n\u001b[0;32m    317\u001b[0m \u001b[38;5;129m@wraps\u001b[39m(f)\n\u001b[0;32m    318\u001b[0m \u001b[38;5;28;01mdef\u001b[39;00m \u001b[38;5;21mwrapped\u001b[39m(\u001b[38;5;28mself\u001b[39m, X, \u001b[38;5;241m*\u001b[39margs, \u001b[38;5;241m*\u001b[39m\u001b[38;5;241m*\u001b[39mkwargs):\n\u001b[1;32m--> 319\u001b[0m     data_to_wrap \u001b[38;5;241m=\u001b[39m \u001b[43mf\u001b[49m\u001b[43m(\u001b[49m\u001b[38;5;28;43mself\u001b[39;49m\u001b[43m,\u001b[49m\u001b[43m \u001b[49m\u001b[43mX\u001b[49m\u001b[43m,\u001b[49m\u001b[43m \u001b[49m\u001b[38;5;241;43m*\u001b[39;49m\u001b[43margs\u001b[49m\u001b[43m,\u001b[49m\u001b[43m \u001b[49m\u001b[38;5;241;43m*\u001b[39;49m\u001b[38;5;241;43m*\u001b[39;49m\u001b[43mkwargs\u001b[49m\u001b[43m)\u001b[49m\n\u001b[0;32m    320\u001b[0m     \u001b[38;5;28;01mif\u001b[39;00m \u001b[38;5;28misinstance\u001b[39m(data_to_wrap, \u001b[38;5;28mtuple\u001b[39m):\n\u001b[0;32m    321\u001b[0m         \u001b[38;5;66;03m# only wrap the first output for cross decomposition\u001b[39;00m\n\u001b[0;32m    322\u001b[0m         return_tuple \u001b[38;5;241m=\u001b[39m (\n\u001b[0;32m    323\u001b[0m             _wrap_data_with_container(method, data_to_wrap[\u001b[38;5;241m0\u001b[39m], X, \u001b[38;5;28mself\u001b[39m),\n\u001b[0;32m    324\u001b[0m             \u001b[38;5;241m*\u001b[39mdata_to_wrap[\u001b[38;5;241m1\u001b[39m:],\n\u001b[0;32m    325\u001b[0m         )\n",
      "File \u001b[1;32mc:\\Users\\city computers\\AppData\\Local\\Programs\\Python\\Python312\\Lib\\site-packages\\sklearn\\preprocessing\\_data.py:1062\u001b[0m, in \u001b[0;36mStandardScaler.transform\u001b[1;34m(self, X, copy)\u001b[0m\n\u001b[0;32m   1059\u001b[0m check_is_fitted(\u001b[38;5;28mself\u001b[39m)\n\u001b[0;32m   1061\u001b[0m copy \u001b[38;5;241m=\u001b[39m copy \u001b[38;5;28;01mif\u001b[39;00m copy \u001b[38;5;129;01mis\u001b[39;00m \u001b[38;5;129;01mnot\u001b[39;00m \u001b[38;5;28;01mNone\u001b[39;00m \u001b[38;5;28;01melse\u001b[39;00m \u001b[38;5;28mself\u001b[39m\u001b[38;5;241m.\u001b[39mcopy\n\u001b[1;32m-> 1062\u001b[0m X \u001b[38;5;241m=\u001b[39m \u001b[43mvalidate_data\u001b[49m\u001b[43m(\u001b[49m\n\u001b[0;32m   1063\u001b[0m \u001b[43m    \u001b[49m\u001b[38;5;28;43mself\u001b[39;49m\u001b[43m,\u001b[49m\n\u001b[0;32m   1064\u001b[0m \u001b[43m    \u001b[49m\u001b[43mX\u001b[49m\u001b[43m,\u001b[49m\n\u001b[0;32m   1065\u001b[0m \u001b[43m    \u001b[49m\u001b[43mreset\u001b[49m\u001b[38;5;241;43m=\u001b[39;49m\u001b[38;5;28;43;01mFalse\u001b[39;49;00m\u001b[43m,\u001b[49m\n\u001b[0;32m   1066\u001b[0m \u001b[43m    \u001b[49m\u001b[43maccept_sparse\u001b[49m\u001b[38;5;241;43m=\u001b[39;49m\u001b[38;5;124;43m\"\u001b[39;49m\u001b[38;5;124;43mcsr\u001b[39;49m\u001b[38;5;124;43m\"\u001b[39;49m\u001b[43m,\u001b[49m\n\u001b[0;32m   1067\u001b[0m \u001b[43m    \u001b[49m\u001b[43mcopy\u001b[49m\u001b[38;5;241;43m=\u001b[39;49m\u001b[43mcopy\u001b[49m\u001b[43m,\u001b[49m\n\u001b[0;32m   1068\u001b[0m \u001b[43m    \u001b[49m\u001b[43mdtype\u001b[49m\u001b[38;5;241;43m=\u001b[39;49m\u001b[43mFLOAT_DTYPES\u001b[49m\u001b[43m,\u001b[49m\n\u001b[0;32m   1069\u001b[0m \u001b[43m    \u001b[49m\u001b[43mforce_writeable\u001b[49m\u001b[38;5;241;43m=\u001b[39;49m\u001b[38;5;28;43;01mTrue\u001b[39;49;00m\u001b[43m,\u001b[49m\n\u001b[0;32m   1070\u001b[0m \u001b[43m    \u001b[49m\u001b[43mensure_all_finite\u001b[49m\u001b[38;5;241;43m=\u001b[39;49m\u001b[38;5;124;43m\"\u001b[39;49m\u001b[38;5;124;43mallow-nan\u001b[39;49m\u001b[38;5;124;43m\"\u001b[39;49m\u001b[43m,\u001b[49m\n\u001b[0;32m   1071\u001b[0m \u001b[43m\u001b[49m\u001b[43m)\u001b[49m\n\u001b[0;32m   1073\u001b[0m \u001b[38;5;28;01mif\u001b[39;00m sparse\u001b[38;5;241m.\u001b[39missparse(X):\n\u001b[0;32m   1074\u001b[0m     \u001b[38;5;28;01mif\u001b[39;00m \u001b[38;5;28mself\u001b[39m\u001b[38;5;241m.\u001b[39mwith_mean:\n",
      "File \u001b[1;32mc:\\Users\\city computers\\AppData\\Local\\Programs\\Python\\Python312\\Lib\\site-packages\\sklearn\\utils\\validation.py:2919\u001b[0m, in \u001b[0;36mvalidate_data\u001b[1;34m(_estimator, X, y, reset, validate_separately, skip_check_array, **check_params)\u001b[0m\n\u001b[0;32m   2835\u001b[0m \u001b[38;5;28;01mdef\u001b[39;00m \u001b[38;5;21mvalidate_data\u001b[39m(\n\u001b[0;32m   2836\u001b[0m     _estimator,\n\u001b[0;32m   2837\u001b[0m     \u001b[38;5;241m/\u001b[39m,\n\u001b[1;32m   (...)\u001b[0m\n\u001b[0;32m   2843\u001b[0m     \u001b[38;5;241m*\u001b[39m\u001b[38;5;241m*\u001b[39mcheck_params,\n\u001b[0;32m   2844\u001b[0m ):\n\u001b[0;32m   2845\u001b[0m \u001b[38;5;250m    \u001b[39m\u001b[38;5;124;03m\"\"\"Validate input data and set or check feature names and counts of the input.\u001b[39;00m\n\u001b[0;32m   2846\u001b[0m \n\u001b[0;32m   2847\u001b[0m \u001b[38;5;124;03m    This helper function should be used in an estimator that requires input\u001b[39;00m\n\u001b[1;32m   (...)\u001b[0m\n\u001b[0;32m   2917\u001b[0m \u001b[38;5;124;03m        validated.\u001b[39;00m\n\u001b[0;32m   2918\u001b[0m \u001b[38;5;124;03m    \"\"\"\u001b[39;00m\n\u001b[1;32m-> 2919\u001b[0m     \u001b[43m_check_feature_names\u001b[49m\u001b[43m(\u001b[49m\u001b[43m_estimator\u001b[49m\u001b[43m,\u001b[49m\u001b[43m \u001b[49m\u001b[43mX\u001b[49m\u001b[43m,\u001b[49m\u001b[43m \u001b[49m\u001b[43mreset\u001b[49m\u001b[38;5;241;43m=\u001b[39;49m\u001b[43mreset\u001b[49m\u001b[43m)\u001b[49m\n\u001b[0;32m   2920\u001b[0m     tags \u001b[38;5;241m=\u001b[39m get_tags(_estimator)\n\u001b[0;32m   2921\u001b[0m     \u001b[38;5;28;01mif\u001b[39;00m y \u001b[38;5;129;01mis\u001b[39;00m \u001b[38;5;28;01mNone\u001b[39;00m \u001b[38;5;129;01mand\u001b[39;00m tags\u001b[38;5;241m.\u001b[39mtarget_tags\u001b[38;5;241m.\u001b[39mrequired:\n",
      "File \u001b[1;32mc:\\Users\\city computers\\AppData\\Local\\Programs\\Python\\Python312\\Lib\\site-packages\\sklearn\\utils\\validation.py:2777\u001b[0m, in \u001b[0;36m_check_feature_names\u001b[1;34m(estimator, X, reset)\u001b[0m\n\u001b[0;32m   2774\u001b[0m \u001b[38;5;28;01mif\u001b[39;00m \u001b[38;5;129;01mnot\u001b[39;00m missing_names \u001b[38;5;129;01mand\u001b[39;00m \u001b[38;5;129;01mnot\u001b[39;00m unexpected_names:\n\u001b[0;32m   2775\u001b[0m     message \u001b[38;5;241m+\u001b[39m\u001b[38;5;241m=\u001b[39m \u001b[38;5;124m\"\u001b[39m\u001b[38;5;124mFeature names must be in the same order as they were in fit.\u001b[39m\u001b[38;5;130;01m\\n\u001b[39;00m\u001b[38;5;124m\"\u001b[39m\n\u001b[1;32m-> 2777\u001b[0m \u001b[38;5;28;01mraise\u001b[39;00m \u001b[38;5;167;01mValueError\u001b[39;00m(message)\n",
      "\u001b[1;31mValueError\u001b[0m: The feature names should match those that were passed during fit.\nFeature names unseen at fit time:\n- grade_encoded\n"
     ]
    }
   ],
   "source": [
    "X_train, X_test, y_train, y_test = train_test_split(X, y, test_size=0.2, random_state=42)\n",
    "\n",
    "numeric_cols = X_train.select_dtypes(include=['number']).columns\n",
    "X_train_numeric = X_train[numeric_cols]\n",
    "# SMOTE OverSampling \n",
    "smote = SMOTE(random_state=42)\n",
    "X_train_res, y_train_res = smote.fit_resample(X_train_numeric, y_train)\n",
    "print(\"Class Distribution After SMOTE:\")\n",
    "print(y_train_res.value_counts())\n",
    "\n",
    "print(X_train_res.isnull().sum()[X_train_res.isnull().sum() > 0])\n",
    "\n",
    "\n",
    "# Random UnderSampling\n",
    "# rus = RandomUnderSampler(random_state=42)\n",
    "# X_train_rus , y_train_rus = rus.fit_resample(X_train, y_train)\n",
    "# print(\"Class Distribution After SMOTE:\")\n",
    "# print(y_train_rus.value_counts)\n",
    "\n",
    "print(X_train.isnull().sum())\n",
    "scaler = StandardScaler()\n",
    "x_train_scaled = scaler.fit_transform(X_train_res)\n",
    "x_test_scaled = scaler.transform(X_test)  \n",
    "\n",
    "# After SMOTE\n",
    "print(\"NaNs in X_train_res:\", pd.DataFrame(X_train_res).isna().sum().sum())\n",
    "\n",
    "# After scaling\n",
    "print(\"NaNs in x_train_scaled:\", np.isnan(x_train_scaled).sum())\n",
    "print(\"NaNs in x_test_scaled:\", np.isnan(x_test_scaled).sum())\n",
    "\n",
    "# Check X_test before scaling\n",
    "print(\"NaNs in X_test:\", pd.DataFrame(X_test).isna().sum().sum())\n",
    "\n",
    "\n"
   ]
  },
  {
   "cell_type": "code",
   "execution_count": 168,
   "id": "1ce3f7c9",
   "metadata": {},
   "outputs": [
    {
     "ename": "ValueError",
     "evalue": "Input X contains NaN.\nLogisticRegression does not accept missing values encoded as NaN natively. For supervised learning, you might want to consider sklearn.ensemble.HistGradientBoostingClassifier and Regressor which accept missing values encoded as NaNs natively. Alternatively, it is possible to preprocess the data, for instance by using an imputer transformer in a pipeline or drop samples with missing values. See https://scikit-learn.org/stable/modules/impute.html You can find a list of all estimators that handle NaN values at the following page: https://scikit-learn.org/stable/modules/impute.html#estimators-that-handle-nan-values",
     "output_type": "error",
     "traceback": [
      "\u001b[1;31m---------------------------------------------------------------------------\u001b[0m",
      "\u001b[1;31mValueError\u001b[0m                                Traceback (most recent call last)",
      "Cell \u001b[1;32mIn[168], line 22\u001b[0m\n\u001b[0;32m     20\u001b[0m \u001b[38;5;28;01mfor\u001b[39;00m model_name , model \u001b[38;5;129;01min\u001b[39;00m models\u001b[38;5;241m.\u001b[39mitems():\n\u001b[0;32m     21\u001b[0m     \u001b[38;5;28;01mif\u001b[39;00m model_name \u001b[38;5;241m==\u001b[39m \u001b[38;5;124m'\u001b[39m\u001b[38;5;124mLogisticRegression\u001b[39m\u001b[38;5;124m'\u001b[39m:\n\u001b[1;32m---> 22\u001b[0m        \u001b[43mmodel\u001b[49m\u001b[38;5;241;43m.\u001b[39;49m\u001b[43mfit\u001b[49m\u001b[43m(\u001b[49m\u001b[43mx_train_scaled\u001b[49m\u001b[43m,\u001b[49m\u001b[43m \u001b[49m\u001b[43my_train_res\u001b[49m\u001b[43m)\u001b[49m\n\u001b[0;32m     23\u001b[0m        y_pred \u001b[38;5;241m=\u001b[39m model\u001b[38;5;241m.\u001b[39mpredict(x_test_scaled)\n\u001b[0;32m     24\u001b[0m     \u001b[38;5;28;01melse\u001b[39;00m:\n",
      "File \u001b[1;32mc:\\Users\\city computers\\AppData\\Local\\Programs\\Python\\Python312\\Lib\\site-packages\\sklearn\\base.py:1389\u001b[0m, in \u001b[0;36m_fit_context.<locals>.decorator.<locals>.wrapper\u001b[1;34m(estimator, *args, **kwargs)\u001b[0m\n\u001b[0;32m   1382\u001b[0m     estimator\u001b[38;5;241m.\u001b[39m_validate_params()\n\u001b[0;32m   1384\u001b[0m \u001b[38;5;28;01mwith\u001b[39;00m config_context(\n\u001b[0;32m   1385\u001b[0m     skip_parameter_validation\u001b[38;5;241m=\u001b[39m(\n\u001b[0;32m   1386\u001b[0m         prefer_skip_nested_validation \u001b[38;5;129;01mor\u001b[39;00m global_skip_validation\n\u001b[0;32m   1387\u001b[0m     )\n\u001b[0;32m   1388\u001b[0m ):\n\u001b[1;32m-> 1389\u001b[0m     \u001b[38;5;28;01mreturn\u001b[39;00m \u001b[43mfit_method\u001b[49m\u001b[43m(\u001b[49m\u001b[43mestimator\u001b[49m\u001b[43m,\u001b[49m\u001b[43m \u001b[49m\u001b[38;5;241;43m*\u001b[39;49m\u001b[43margs\u001b[49m\u001b[43m,\u001b[49m\u001b[43m \u001b[49m\u001b[38;5;241;43m*\u001b[39;49m\u001b[38;5;241;43m*\u001b[39;49m\u001b[43mkwargs\u001b[49m\u001b[43m)\u001b[49m\n",
      "File \u001b[1;32mc:\\Users\\city computers\\AppData\\Local\\Programs\\Python\\Python312\\Lib\\site-packages\\sklearn\\linear_model\\_logistic.py:1222\u001b[0m, in \u001b[0;36mLogisticRegression.fit\u001b[1;34m(self, X, y, sample_weight)\u001b[0m\n\u001b[0;32m   1219\u001b[0m \u001b[38;5;28;01melse\u001b[39;00m:\n\u001b[0;32m   1220\u001b[0m     _dtype \u001b[38;5;241m=\u001b[39m [np\u001b[38;5;241m.\u001b[39mfloat64, np\u001b[38;5;241m.\u001b[39mfloat32]\n\u001b[1;32m-> 1222\u001b[0m X, y \u001b[38;5;241m=\u001b[39m \u001b[43mvalidate_data\u001b[49m\u001b[43m(\u001b[49m\n\u001b[0;32m   1223\u001b[0m \u001b[43m    \u001b[49m\u001b[38;5;28;43mself\u001b[39;49m\u001b[43m,\u001b[49m\n\u001b[0;32m   1224\u001b[0m \u001b[43m    \u001b[49m\u001b[43mX\u001b[49m\u001b[43m,\u001b[49m\n\u001b[0;32m   1225\u001b[0m \u001b[43m    \u001b[49m\u001b[43my\u001b[49m\u001b[43m,\u001b[49m\n\u001b[0;32m   1226\u001b[0m \u001b[43m    \u001b[49m\u001b[43maccept_sparse\u001b[49m\u001b[38;5;241;43m=\u001b[39;49m\u001b[38;5;124;43m\"\u001b[39;49m\u001b[38;5;124;43mcsr\u001b[39;49m\u001b[38;5;124;43m\"\u001b[39;49m\u001b[43m,\u001b[49m\n\u001b[0;32m   1227\u001b[0m \u001b[43m    \u001b[49m\u001b[43mdtype\u001b[49m\u001b[38;5;241;43m=\u001b[39;49m\u001b[43m_dtype\u001b[49m\u001b[43m,\u001b[49m\n\u001b[0;32m   1228\u001b[0m \u001b[43m    \u001b[49m\u001b[43morder\u001b[49m\u001b[38;5;241;43m=\u001b[39;49m\u001b[38;5;124;43m\"\u001b[39;49m\u001b[38;5;124;43mC\u001b[39;49m\u001b[38;5;124;43m\"\u001b[39;49m\u001b[43m,\u001b[49m\n\u001b[0;32m   1229\u001b[0m \u001b[43m    \u001b[49m\u001b[43maccept_large_sparse\u001b[49m\u001b[38;5;241;43m=\u001b[39;49m\u001b[43msolver\u001b[49m\u001b[43m \u001b[49m\u001b[38;5;129;43;01mnot\u001b[39;49;00m\u001b[43m \u001b[49m\u001b[38;5;129;43;01min\u001b[39;49;00m\u001b[43m \u001b[49m\u001b[43m[\u001b[49m\u001b[38;5;124;43m\"\u001b[39;49m\u001b[38;5;124;43mliblinear\u001b[39;49m\u001b[38;5;124;43m\"\u001b[39;49m\u001b[43m,\u001b[49m\u001b[43m \u001b[49m\u001b[38;5;124;43m\"\u001b[39;49m\u001b[38;5;124;43msag\u001b[39;49m\u001b[38;5;124;43m\"\u001b[39;49m\u001b[43m,\u001b[49m\u001b[43m \u001b[49m\u001b[38;5;124;43m\"\u001b[39;49m\u001b[38;5;124;43msaga\u001b[39;49m\u001b[38;5;124;43m\"\u001b[39;49m\u001b[43m]\u001b[49m\u001b[43m,\u001b[49m\n\u001b[0;32m   1230\u001b[0m \u001b[43m\u001b[49m\u001b[43m)\u001b[49m\n\u001b[0;32m   1231\u001b[0m check_classification_targets(y)\n\u001b[0;32m   1232\u001b[0m \u001b[38;5;28mself\u001b[39m\u001b[38;5;241m.\u001b[39mclasses_ \u001b[38;5;241m=\u001b[39m np\u001b[38;5;241m.\u001b[39munique(y)\n",
      "File \u001b[1;32mc:\\Users\\city computers\\AppData\\Local\\Programs\\Python\\Python312\\Lib\\site-packages\\sklearn\\utils\\validation.py:2961\u001b[0m, in \u001b[0;36mvalidate_data\u001b[1;34m(_estimator, X, y, reset, validate_separately, skip_check_array, **check_params)\u001b[0m\n\u001b[0;32m   2959\u001b[0m         y \u001b[38;5;241m=\u001b[39m check_array(y, input_name\u001b[38;5;241m=\u001b[39m\u001b[38;5;124m\"\u001b[39m\u001b[38;5;124my\u001b[39m\u001b[38;5;124m\"\u001b[39m, \u001b[38;5;241m*\u001b[39m\u001b[38;5;241m*\u001b[39mcheck_y_params)\n\u001b[0;32m   2960\u001b[0m     \u001b[38;5;28;01melse\u001b[39;00m:\n\u001b[1;32m-> 2961\u001b[0m         X, y \u001b[38;5;241m=\u001b[39m \u001b[43mcheck_X_y\u001b[49m\u001b[43m(\u001b[49m\u001b[43mX\u001b[49m\u001b[43m,\u001b[49m\u001b[43m \u001b[49m\u001b[43my\u001b[49m\u001b[43m,\u001b[49m\u001b[43m \u001b[49m\u001b[38;5;241;43m*\u001b[39;49m\u001b[38;5;241;43m*\u001b[39;49m\u001b[43mcheck_params\u001b[49m\u001b[43m)\u001b[49m\n\u001b[0;32m   2962\u001b[0m     out \u001b[38;5;241m=\u001b[39m X, y\n\u001b[0;32m   2964\u001b[0m \u001b[38;5;28;01mif\u001b[39;00m \u001b[38;5;129;01mnot\u001b[39;00m no_val_X \u001b[38;5;129;01mand\u001b[39;00m check_params\u001b[38;5;241m.\u001b[39mget(\u001b[38;5;124m\"\u001b[39m\u001b[38;5;124mensure_2d\u001b[39m\u001b[38;5;124m\"\u001b[39m, \u001b[38;5;28;01mTrue\u001b[39;00m):\n",
      "File \u001b[1;32mc:\\Users\\city computers\\AppData\\Local\\Programs\\Python\\Python312\\Lib\\site-packages\\sklearn\\utils\\validation.py:1370\u001b[0m, in \u001b[0;36mcheck_X_y\u001b[1;34m(X, y, accept_sparse, accept_large_sparse, dtype, order, copy, force_writeable, force_all_finite, ensure_all_finite, ensure_2d, allow_nd, multi_output, ensure_min_samples, ensure_min_features, y_numeric, estimator)\u001b[0m\n\u001b[0;32m   1364\u001b[0m     \u001b[38;5;28;01mraise\u001b[39;00m \u001b[38;5;167;01mValueError\u001b[39;00m(\n\u001b[0;32m   1365\u001b[0m         \u001b[38;5;124mf\u001b[39m\u001b[38;5;124m\"\u001b[39m\u001b[38;5;132;01m{\u001b[39;00mestimator_name\u001b[38;5;132;01m}\u001b[39;00m\u001b[38;5;124m requires y to be passed, but the target y is None\u001b[39m\u001b[38;5;124m\"\u001b[39m\n\u001b[0;32m   1366\u001b[0m     )\n\u001b[0;32m   1368\u001b[0m ensure_all_finite \u001b[38;5;241m=\u001b[39m _deprecate_force_all_finite(force_all_finite, ensure_all_finite)\n\u001b[1;32m-> 1370\u001b[0m X \u001b[38;5;241m=\u001b[39m \u001b[43mcheck_array\u001b[49m\u001b[43m(\u001b[49m\n\u001b[0;32m   1371\u001b[0m \u001b[43m    \u001b[49m\u001b[43mX\u001b[49m\u001b[43m,\u001b[49m\n\u001b[0;32m   1372\u001b[0m \u001b[43m    \u001b[49m\u001b[43maccept_sparse\u001b[49m\u001b[38;5;241;43m=\u001b[39;49m\u001b[43maccept_sparse\u001b[49m\u001b[43m,\u001b[49m\n\u001b[0;32m   1373\u001b[0m \u001b[43m    \u001b[49m\u001b[43maccept_large_sparse\u001b[49m\u001b[38;5;241;43m=\u001b[39;49m\u001b[43maccept_large_sparse\u001b[49m\u001b[43m,\u001b[49m\n\u001b[0;32m   1374\u001b[0m \u001b[43m    \u001b[49m\u001b[43mdtype\u001b[49m\u001b[38;5;241;43m=\u001b[39;49m\u001b[43mdtype\u001b[49m\u001b[43m,\u001b[49m\n\u001b[0;32m   1375\u001b[0m \u001b[43m    \u001b[49m\u001b[43morder\u001b[49m\u001b[38;5;241;43m=\u001b[39;49m\u001b[43morder\u001b[49m\u001b[43m,\u001b[49m\n\u001b[0;32m   1376\u001b[0m \u001b[43m    \u001b[49m\u001b[43mcopy\u001b[49m\u001b[38;5;241;43m=\u001b[39;49m\u001b[43mcopy\u001b[49m\u001b[43m,\u001b[49m\n\u001b[0;32m   1377\u001b[0m \u001b[43m    \u001b[49m\u001b[43mforce_writeable\u001b[49m\u001b[38;5;241;43m=\u001b[39;49m\u001b[43mforce_writeable\u001b[49m\u001b[43m,\u001b[49m\n\u001b[0;32m   1378\u001b[0m \u001b[43m    \u001b[49m\u001b[43mensure_all_finite\u001b[49m\u001b[38;5;241;43m=\u001b[39;49m\u001b[43mensure_all_finite\u001b[49m\u001b[43m,\u001b[49m\n\u001b[0;32m   1379\u001b[0m \u001b[43m    \u001b[49m\u001b[43mensure_2d\u001b[49m\u001b[38;5;241;43m=\u001b[39;49m\u001b[43mensure_2d\u001b[49m\u001b[43m,\u001b[49m\n\u001b[0;32m   1380\u001b[0m \u001b[43m    \u001b[49m\u001b[43mallow_nd\u001b[49m\u001b[38;5;241;43m=\u001b[39;49m\u001b[43mallow_nd\u001b[49m\u001b[43m,\u001b[49m\n\u001b[0;32m   1381\u001b[0m \u001b[43m    \u001b[49m\u001b[43mensure_min_samples\u001b[49m\u001b[38;5;241;43m=\u001b[39;49m\u001b[43mensure_min_samples\u001b[49m\u001b[43m,\u001b[49m\n\u001b[0;32m   1382\u001b[0m \u001b[43m    \u001b[49m\u001b[43mensure_min_features\u001b[49m\u001b[38;5;241;43m=\u001b[39;49m\u001b[43mensure_min_features\u001b[49m\u001b[43m,\u001b[49m\n\u001b[0;32m   1383\u001b[0m \u001b[43m    \u001b[49m\u001b[43mestimator\u001b[49m\u001b[38;5;241;43m=\u001b[39;49m\u001b[43mestimator\u001b[49m\u001b[43m,\u001b[49m\n\u001b[0;32m   1384\u001b[0m \u001b[43m    \u001b[49m\u001b[43minput_name\u001b[49m\u001b[38;5;241;43m=\u001b[39;49m\u001b[38;5;124;43m\"\u001b[39;49m\u001b[38;5;124;43mX\u001b[39;49m\u001b[38;5;124;43m\"\u001b[39;49m\u001b[43m,\u001b[49m\n\u001b[0;32m   1385\u001b[0m \u001b[43m\u001b[49m\u001b[43m)\u001b[49m\n\u001b[0;32m   1387\u001b[0m y \u001b[38;5;241m=\u001b[39m _check_y(y, multi_output\u001b[38;5;241m=\u001b[39mmulti_output, y_numeric\u001b[38;5;241m=\u001b[39my_numeric, estimator\u001b[38;5;241m=\u001b[39mestimator)\n\u001b[0;32m   1389\u001b[0m check_consistent_length(X, y)\n",
      "File \u001b[1;32mc:\\Users\\city computers\\AppData\\Local\\Programs\\Python\\Python312\\Lib\\site-packages\\sklearn\\utils\\validation.py:1107\u001b[0m, in \u001b[0;36mcheck_array\u001b[1;34m(array, accept_sparse, accept_large_sparse, dtype, order, copy, force_writeable, force_all_finite, ensure_all_finite, ensure_non_negative, ensure_2d, allow_nd, ensure_min_samples, ensure_min_features, estimator, input_name)\u001b[0m\n\u001b[0;32m   1101\u001b[0m     \u001b[38;5;28;01mraise\u001b[39;00m \u001b[38;5;167;01mValueError\u001b[39;00m(\n\u001b[0;32m   1102\u001b[0m         \u001b[38;5;124m\"\u001b[39m\u001b[38;5;124mFound array with dim \u001b[39m\u001b[38;5;132;01m%d\u001b[39;00m\u001b[38;5;124m. \u001b[39m\u001b[38;5;132;01m%s\u001b[39;00m\u001b[38;5;124m expected <= 2.\u001b[39m\u001b[38;5;124m\"\u001b[39m\n\u001b[0;32m   1103\u001b[0m         \u001b[38;5;241m%\u001b[39m (array\u001b[38;5;241m.\u001b[39mndim, estimator_name)\n\u001b[0;32m   1104\u001b[0m     )\n\u001b[0;32m   1106\u001b[0m \u001b[38;5;28;01mif\u001b[39;00m ensure_all_finite:\n\u001b[1;32m-> 1107\u001b[0m     \u001b[43m_assert_all_finite\u001b[49m\u001b[43m(\u001b[49m\n\u001b[0;32m   1108\u001b[0m \u001b[43m        \u001b[49m\u001b[43marray\u001b[49m\u001b[43m,\u001b[49m\n\u001b[0;32m   1109\u001b[0m \u001b[43m        \u001b[49m\u001b[43minput_name\u001b[49m\u001b[38;5;241;43m=\u001b[39;49m\u001b[43minput_name\u001b[49m\u001b[43m,\u001b[49m\n\u001b[0;32m   1110\u001b[0m \u001b[43m        \u001b[49m\u001b[43mestimator_name\u001b[49m\u001b[38;5;241;43m=\u001b[39;49m\u001b[43mestimator_name\u001b[49m\u001b[43m,\u001b[49m\n\u001b[0;32m   1111\u001b[0m \u001b[43m        \u001b[49m\u001b[43mallow_nan\u001b[49m\u001b[38;5;241;43m=\u001b[39;49m\u001b[43mensure_all_finite\u001b[49m\u001b[43m \u001b[49m\u001b[38;5;241;43m==\u001b[39;49m\u001b[43m \u001b[49m\u001b[38;5;124;43m\"\u001b[39;49m\u001b[38;5;124;43mallow-nan\u001b[39;49m\u001b[38;5;124;43m\"\u001b[39;49m\u001b[43m,\u001b[49m\n\u001b[0;32m   1112\u001b[0m \u001b[43m    \u001b[49m\u001b[43m)\u001b[49m\n\u001b[0;32m   1114\u001b[0m \u001b[38;5;28;01mif\u001b[39;00m copy:\n\u001b[0;32m   1115\u001b[0m     \u001b[38;5;28;01mif\u001b[39;00m _is_numpy_namespace(xp):\n\u001b[0;32m   1116\u001b[0m         \u001b[38;5;66;03m# only make a copy if `array` and `array_orig` may share memory`\u001b[39;00m\n",
      "File \u001b[1;32mc:\\Users\\city computers\\AppData\\Local\\Programs\\Python\\Python312\\Lib\\site-packages\\sklearn\\utils\\validation.py:120\u001b[0m, in \u001b[0;36m_assert_all_finite\u001b[1;34m(X, allow_nan, msg_dtype, estimator_name, input_name)\u001b[0m\n\u001b[0;32m    117\u001b[0m \u001b[38;5;28;01mif\u001b[39;00m first_pass_isfinite:\n\u001b[0;32m    118\u001b[0m     \u001b[38;5;28;01mreturn\u001b[39;00m\n\u001b[1;32m--> 120\u001b[0m \u001b[43m_assert_all_finite_element_wise\u001b[49m\u001b[43m(\u001b[49m\n\u001b[0;32m    121\u001b[0m \u001b[43m    \u001b[49m\u001b[43mX\u001b[49m\u001b[43m,\u001b[49m\n\u001b[0;32m    122\u001b[0m \u001b[43m    \u001b[49m\u001b[43mxp\u001b[49m\u001b[38;5;241;43m=\u001b[39;49m\u001b[43mxp\u001b[49m\u001b[43m,\u001b[49m\n\u001b[0;32m    123\u001b[0m \u001b[43m    \u001b[49m\u001b[43mallow_nan\u001b[49m\u001b[38;5;241;43m=\u001b[39;49m\u001b[43mallow_nan\u001b[49m\u001b[43m,\u001b[49m\n\u001b[0;32m    124\u001b[0m \u001b[43m    \u001b[49m\u001b[43mmsg_dtype\u001b[49m\u001b[38;5;241;43m=\u001b[39;49m\u001b[43mmsg_dtype\u001b[49m\u001b[43m,\u001b[49m\n\u001b[0;32m    125\u001b[0m \u001b[43m    \u001b[49m\u001b[43mestimator_name\u001b[49m\u001b[38;5;241;43m=\u001b[39;49m\u001b[43mestimator_name\u001b[49m\u001b[43m,\u001b[49m\n\u001b[0;32m    126\u001b[0m \u001b[43m    \u001b[49m\u001b[43minput_name\u001b[49m\u001b[38;5;241;43m=\u001b[39;49m\u001b[43minput_name\u001b[49m\u001b[43m,\u001b[49m\n\u001b[0;32m    127\u001b[0m \u001b[43m\u001b[49m\u001b[43m)\u001b[49m\n",
      "File \u001b[1;32mc:\\Users\\city computers\\AppData\\Local\\Programs\\Python\\Python312\\Lib\\site-packages\\sklearn\\utils\\validation.py:169\u001b[0m, in \u001b[0;36m_assert_all_finite_element_wise\u001b[1;34m(X, xp, allow_nan, msg_dtype, estimator_name, input_name)\u001b[0m\n\u001b[0;32m    152\u001b[0m \u001b[38;5;28;01mif\u001b[39;00m estimator_name \u001b[38;5;129;01mand\u001b[39;00m input_name \u001b[38;5;241m==\u001b[39m \u001b[38;5;124m\"\u001b[39m\u001b[38;5;124mX\u001b[39m\u001b[38;5;124m\"\u001b[39m \u001b[38;5;129;01mand\u001b[39;00m has_nan_error:\n\u001b[0;32m    153\u001b[0m     \u001b[38;5;66;03m# Improve the error message on how to handle missing values in\u001b[39;00m\n\u001b[0;32m    154\u001b[0m     \u001b[38;5;66;03m# scikit-learn.\u001b[39;00m\n\u001b[0;32m    155\u001b[0m     msg_err \u001b[38;5;241m+\u001b[39m\u001b[38;5;241m=\u001b[39m (\n\u001b[0;32m    156\u001b[0m         \u001b[38;5;124mf\u001b[39m\u001b[38;5;124m\"\u001b[39m\u001b[38;5;130;01m\\n\u001b[39;00m\u001b[38;5;132;01m{\u001b[39;00mestimator_name\u001b[38;5;132;01m}\u001b[39;00m\u001b[38;5;124m does not accept missing values\u001b[39m\u001b[38;5;124m\"\u001b[39m\n\u001b[0;32m    157\u001b[0m         \u001b[38;5;124m\"\u001b[39m\u001b[38;5;124m encoded as NaN natively. For supervised learning, you might want\u001b[39m\u001b[38;5;124m\"\u001b[39m\n\u001b[1;32m   (...)\u001b[0m\n\u001b[0;32m    167\u001b[0m         \u001b[38;5;124m\"\u001b[39m\u001b[38;5;124m#estimators-that-handle-nan-values\u001b[39m\u001b[38;5;124m\"\u001b[39m\n\u001b[0;32m    168\u001b[0m     )\n\u001b[1;32m--> 169\u001b[0m \u001b[38;5;28;01mraise\u001b[39;00m \u001b[38;5;167;01mValueError\u001b[39;00m(msg_err)\n",
      "\u001b[1;31mValueError\u001b[0m: Input X contains NaN.\nLogisticRegression does not accept missing values encoded as NaN natively. For supervised learning, you might want to consider sklearn.ensemble.HistGradientBoostingClassifier and Regressor which accept missing values encoded as NaNs natively. Alternatively, it is possible to preprocess the data, for instance by using an imputer transformer in a pipeline or drop samples with missing values. See https://scikit-learn.org/stable/modules/impute.html You can find a list of all estimators that handle NaN values at the following page: https://scikit-learn.org/stable/modules/impute.html#estimators-that-handle-nan-values"
     ]
    }
   ],
   "source": [
    "from sklearn.metrics import accuracy_score, precision_score, recall_score , f1_score , roc_auc_score , confusion_matrix\n",
    "from sklearn.ensemble import RandomForestClassifier, GradientBoostingClassifier\n",
    "from sklearn.tree import DecisionTreeClassifier\n",
    "from sklearn.linear_model import LogisticRegression\n",
    "from xgboost import XGBClassifier\n",
    "from sklearn.svm import SVC \n",
    "import lightgbm as lgb\n",
    "\n",
    "models = {\n",
    "    'LogisticRegression': LogisticRegression( random_state=42),\n",
    "    'DecisionTreeClassifier': DecisionTreeClassifier(random_state=42),\n",
    "    'RandomForestClassifier': RandomForestClassifier(random_state=42),\n",
    "    'GradientBoostingClassifier': GradientBoostingClassifier(random_state=42),\n",
    "    'XGBClassifier': XGBClassifier(random_state=42),\n",
    "    'SVC': SVC(random_state=42),\n",
    "    'LightGBM': lgb.LGBMClassifier(random_state=42),\n",
    "}\n",
    "\n",
    "results= {}\n",
    "for model_name , model in models.items():\n",
    "    if model_name == 'LogisticRegression':\n",
    "       model.fit(x_train_scaled, y_train_res)\n",
    "       y_pred = model.predict(x_test_scaled)\n",
    "    else:\n",
    "         model.fit(X_train_res, y_train_res)\n",
    "         y_pred = model.predict(X_test)\n",
    "        \n",
    "    roc_auc_score = roc_auc_score(y_test, y_pred)\n",
    "    accuracy = accuracy_score(y_test, y_pred)\n",
    "    precision = precision_score(y_test, y_pred)\n",
    "    recall = recall_score(y_test, y_pred)\n",
    "    f1_score = f1_score(y_test, y_pred)\n",
    "    confusion_Matrics = confusion_matrix(y_test, y_pred)\n",
    "\n",
    "    results[model_name] = {\n",
    "        'roc_auc': roc_auc_score,\n",
    "        'accuracy': accuracy,\n",
    "        'precision': precision,\n",
    "        'recall': recall,\n",
    "        'f1': f1_score,\n",
    "        'confusion_matrix': confusion_Matrics\n",
    "    }\n",
    "for model_name, metrics in results.items():\n",
    "    print(f'{model_name}')\n",
    "    print(f'roc_auc: {metrics[\"roc_auc_score\"]:.2f}')\n",
    "    print(f'accuracy: {metrics[\"accuracy\"]:.2f}')\n",
    "    print(f'precision: {metrics[\"precision\"]:.2f}')\n",
    "    print(f'recall: {metrics[\"recall\"]:.2f}')\n",
    "    print(f'f1: {metrics[\"f1_score\"]:.2f}')\n",
    "    print(f'confusion_matrix:\\n {metrics[\"confusion_matrix\"]}')\n"
   ]
  },
  {
   "cell_type": "markdown",
   "id": "afc0337e-4955-4cb5-9ba5-dbae6cbfa101",
   "metadata": {},
   "source": [
    "### VIF"
   ]
  },
  {
   "cell_type": "code",
   "execution_count": null,
   "id": "faa3f821-d341-4705-94f4-541ed32e5893",
   "metadata": {
    "jupyter": {
     "source_hidden": true
    }
   },
   "outputs": [],
   "source": [
    "from statsmodels.stats.outliers_influence import variance_inflation_factor"
   ]
  },
  {
   "cell_type": "code",
   "execution_count": null,
   "id": "5e7ebad7-bf2e-4deb-b95a-d96492caf725",
   "metadata": {
    "jupyter": {
     "source_hidden": true
    }
   },
   "outputs": [],
   "source": [
    "# def calculate_vif(df):\n",
    "#     vif_data = pd.DataFrame()\n",
    "#     vif_data['Feature_name'] = df.columns\n",
    "    \n",
    "#     # the below is a list comprehension \n",
    "#     vif_data['VIF Values'] = [variance_inflation_factor(df.values,col_index) for col_index in range(df.shape[1])] # the shape[] give us number of column in a dataset\n",
    "#     return vif_data"
   ]
  },
  {
   "cell_type": "code",
   "execution_count": null,
   "id": "6d5d6135-b953-448b-80d1-ef46492c325c",
   "metadata": {},
   "outputs": [],
   "source": [
    "# X_train is our data with features that we want to check for redundancy.\n",
    "# X_selected = X_train.copy()  \n",
    "# vif_result = calculate_vif(X_selected)  \n",
    "# print(vif_result) "
   ]
  },
  {
   "cell_type": "markdown",
   "id": "f40109d5-73d6-41c8-bfdb-0c8300dd7434",
   "metadata": {},
   "source": [
    "# Exploratory Data Analysis"
   ]
  },
  {
   "cell_type": "code",
   "execution_count": null,
   "id": "f42ac4fc-43bb-4339-b6d3-e9c02f79d83d",
   "metadata": {
    "collapsed": true,
    "jupyter": {
     "outputs_hidden": true,
     "source_hidden": true
    }
   },
   "outputs": [],
   "source": [
    "# Group data by 'grade' and 'loan_status' and count the occurrences\n",
    "stacked_data = df_cleaned.groupby(['grade', 'loan_status'] , observed=True).size().unstack(fill_value=0)\n",
    "\n",
    "# stacked bar plot\n",
    "ax = stacked_data.plot(kind='bar', stacked=True , figsize=(6, 4) , color = [color2, color1])\n",
    "plt.title(\"Loan Count by Grade\")\n",
    "plt.xlabel(\"Loan Grade\")\n",
    "plt.ylabel(\"Count of Loans\")\n",
    "plt.legend(title=\"Loan Status\")\n",
    "ax.set_facecolor(color='white')\n",
    "plt.show()"
   ]
  },
  {
   "cell_type": "code",
   "execution_count": null,
   "id": "d198b66a-397e-4c2c-8d03-9f8e73b290a9",
   "metadata": {
    "collapsed": true,
    "jupyter": {
     "outputs_hidden": true,
     "source_hidden": true
    }
   },
   "outputs": [],
   "source": [
    "# List of crucial categorical columns\n",
    "crucial_columns = ['grade','home_ownership','loan_status']\n",
    "\n",
    "# Create subplots: one row with as many columns as we have crucial columns\n",
    "fig, axes = plt.subplots(1, len(crucial_columns), figsize=(6 * len(crucial_columns), 6))\n",
    "\n",
    "# for ax, col in zip(axes, crucial_columns):\n",
    "#     # Count the occurrences in each category for the column and plot as a bar chart\n",
    "#     df_cleaned[col].value_counts().plot(kind='bar', ax=ax, color=color2)\n",
    "#     ax.set_title(f'Count of Loans by {col}', fontsize=14, fontweight='bold')\n",
    "#     ax.set_xlabel(col, fontsize=12)\n",
    "#     ax.set_ylabel(\"Count\", fontsize=12)\n",
    "#     ax.tick_params(axis='x', rotation=45)\n",
    "\n",
    "                   # OR\n",
    "\n",
    "for i, col in enumerate(crucial_columns):\n",
    "    # Count the occurrences in each category for the column and plot as a bar chart\n",
    "    df_cleaned[col].value_counts().plot(kind='bar', ax=axes[i], color=color2)\n",
    "    axes[i].set_title(f'Count of Loans by {col}', fontsize=14, fontweight='bold')\n",
    "    axes[i].set_xlabel(col, fontsize=12)\n",
    "    axes[i].set_ylabel(\"Count\", fontsize=12)\n",
    "    axes[i].tick_params(axis='x', rotation=0)\n",
    "\n",
    "plt.tight_layout()\n",
    "plt.show()\n",
    "\n"
   ]
  },
  {
   "cell_type": "code",
   "execution_count": null,
   "id": "de3716b6-4e1a-4436-b0b3-662514fa5704",
   "metadata": {
    "collapsed": true,
    "jupyter": {
     "outputs_hidden": true,
     "source_hidden": true
    }
   },
   "outputs": [],
   "source": [
    "plt.figure(figsize=(7,5))\n",
    "sns.violinplot(x='grade', y='annual_inc', data=df_cleaned , linecolor = 'black' , color = color2)\n",
    "plt.title(\"Annual Income Distribution by Loan Grade\")\n",
    "plt.xlabel(\"Loan Grade\")\n",
    "plt.ylabel(\"Annual Income\")\n",
    "plt.show()           "
   ]
  },
  {
   "cell_type": "code",
   "execution_count": null,
   "id": "7bb4e003-331b-4826-8dff-1d114114b840",
   "metadata": {
    "collapsed": true,
    "jupyter": {
     "outputs_hidden": true
    }
   },
   "outputs": [],
   "source": [
    "df_transformed.columns"
   ]
  },
  {
   "cell_type": "code",
   "execution_count": null,
   "id": "97261a4c-c5ae-4dc3-8351-43b840fd4ecf",
   "metadata": {
    "collapsed": true,
    "jupyter": {
     "outputs_hidden": true,
     "source_hidden": true
    }
   },
   "outputs": [],
   "source": [
    "selected_features = ['loan_amnt' ,'annual_inc', 'int_rate' , 'loan_to_income_ratio']\n",
    "sns.pairplot(df_transformed[selected_features] )\n",
    "plt.suptitle(\"Pairwise Relationships Among Loan Features\", y=1.02)\n",
    "plt.show()"
   ]
  },
  {
   "cell_type": "code",
   "execution_count": null,
   "id": "0013ddd4-045f-40c5-8338-4f6b04c203c1",
   "metadata": {
    "collapsed": true,
    "jupyter": {
     "outputs_hidden": true,
     "source_hidden": true
    }
   },
   "outputs": [],
   "source": [
    "plt.figure(figsize=(10, 6))\n",
    "numeric_features = ['loan_amnt', 'annual_inc', 'int_rate', 'installment', 'loan_to_income_ratio']\n",
    "corr_matrix = df[numeric_features].corr()\n",
    "\n",
    "sns.heatmap(corr_matrix, annot=True, cmap=\"coolwarm\", fmt=\".2f\")\n",
    "plt.title(\"Correlation Heatmap of Numeric Features\")\n",
    "plt.show()"
   ]
  },
  {
   "cell_type": "markdown",
   "id": "7711ea7d-c9a4-4a1c-86ff-88371de80d84",
   "metadata": {},
   "source": [
    "### PCA (Principal Component Analysis)"
   ]
  },
  {
   "cell_type": "code",
   "execution_count": null,
   "id": "aed6385e-1034-4970-9df6-9c08f137f3b1",
   "metadata": {
    "collapsed": true,
    "jupyter": {
     "outputs_hidden": true,
     "source_hidden": true
    }
   },
   "outputs": [],
   "source": [
    "# from sklearn.decomposition import PCA\n",
    "# # Plot explained variance ratio\n",
    "# pca = PCA(n_components=12)\n",
    "\n",
    "# # Fit PCA on your data and transform it to get the new, smaller features.\n",
    "# x_pca = pca.fit_transform(x_train_scaled)\n",
    "# plt.figure(figsize=(8, 5))\n",
    "# plt.plot(range(1, len(pca.explained_variance_ratio_) + 1), np.cumsum(pca.explained_variance_ratio_), marker='o')\n",
    "# plt.title('Cumulative Explained Variance')\n",
    "# plt.xlabel('Number of Principal Components')\n",
    "# plt.ylabel('Cumulative Explained Variance')\n",
    "# plt.grid()\n",
    "# plt.show()\n",
    "# # This means the first 15 principal components together explain 95% or 97% of the total variance so we will keep only 15 or 12"
   ]
  },
  {
   "cell_type": "code",
   "execution_count": null,
   "id": "30173847-3713-4ee9-b247-47bed6ec8e71",
   "metadata": {
    "jupyter": {
     "source_hidden": true
    },
    "scrolled": true
   },
   "outputs": [],
   "source": [
    "# Let's say you already have your features in X (only numeric ones)\n",
    "# For our example, we want to reduce our features to 2 principal components.\n",
    "# pca = PCA(n_components=0.95)\n",
    "# # pca = PCA(n_components=0.95) or in my case i can use 0.95 becuase 14 pc's are equal to 95% variance in my dataset \n",
    "\n",
    "# # Fit PCA on your data and transform it to get the new, smaller features.\n",
    "# x_pca = pca.fit_transform(x_train_scaled)\n",
    "\n",
    "# explained_variance = pca.explained_variance_ratio_\n",
    "# plt.figure(figsize=(8,5))\n",
    "# sns.barplot(x=list(components), y=explained_variance, alpha=0.7, color=color2)\n",
    "# plt.xlabel(\"Principal Components\")\n",
    "# plt.ylabel(\"Explained Variance\")\n",
    "# plt.title(\"Explained Variance by Principal Components\")\n",
    "# plt.show()"
   ]
  },
  {
   "cell_type": "code",
   "execution_count": null,
   "id": "53edd5a8-b53b-4bcd-b69e-1d3773aaf88e",
   "metadata": {
    "jupyter": {
     "source_hidden": true
    }
   },
   "outputs": [],
   "source": [
    "# from sklearn.metrics import accuracy_score\n",
    "# from sklearn.decomposition import PCA\n",
    "# from sklearn.ensemble import RandomForestClassifier\n",
    "# import time "
   ]
  },
  {
   "cell_type": "code",
   "execution_count": null,
   "id": "5bdf6b7c-b8ac-4e42-8972-6ce66a23e8df",
   "metadata": {
    "jupyter": {
     "source_hidden": true
    }
   },
   "outputs": [],
   "source": [
    "# model = RandomForestClassifier(random_state=42)\n",
    "\n",
    "# # Before PCA\n",
    "\n",
    "# start_time = time.time()\n",
    "# model.fit(X_train, y_train)\n",
    "# end_time = time.time()\n",
    "# training_time_before = end_time - start_time\n",
    "\n",
    "# # Predictions\n",
    "# y_pred_before = model.predict(X_test)\n",
    "\n",
    "# # Accuracy Before PCA\n",
    "# accuracy_before = accuracy_score(y_test, y_pred_before)\n",
    "\n",
    "# print(\"Training Time Before PCA:\", training_time_before)\n",
    "# print(\"Accuracy Before PCA:\", accuracy_before)\n",
    "\n",
    "# # Apply PCA\n",
    "# pca = PCA(n_components=12)  # i will Keep 12 components\n",
    "# X_train_pca = pca.fit_transform(X_train)\n",
    "# X_test_pca = pca.transform(X_test)\n",
    "\n",
    "# # After PCA\n",
    "# start_time = time.time()\n",
    "# model.fit(X_train_pca, y_train)\n",
    "# end_time = time.time()\n",
    "# training_time_after = end_time - start_time\n",
    "\n",
    "# # Predictions\n",
    "# y_pred_after = model.predict(X_test_pca)\n",
    "\n",
    "# # Accuracy After PCA\n",
    "# accuracy_after = accuracy_score(y_test, y_pred_after)\n",
    "\n",
    "# print(\"Training Time (After PCA):\", training_time_after)\n",
    "# print(\"Accuracy (After PCA):\", accuracy_after)\n",
    "\n",
    "# # Compare Results\n",
    "# print(\"\\n--- Comparison ---\")\n",
    "# print(f\"Training Time Reduced? {'Yes' if training_time_after < training_time_before else 'No'}\")\n",
    "# print(f\"Accuracy Change: {accuracy_after - accuracy_before:.4f}\")\n",
    "\n",
    "# # the result is \n",
    "# # Training Time Before PCA: 223.3123242855072\n",
    "# # Accuracy Before PCA: 0.80528835194894\n",
    "# # Training Time After PCA: 229.27585411071777\n",
    "# # Accuracy After PCA: 0.8037991034115949\n",
    "\n",
    "\n",
    "# # that means it cauldn't improved accuracy and speed so we won't use it \n"
   ]
  },
  {
   "cell_type": "code",
   "execution_count": null,
   "id": "5a993fce-c947-4541-94be-7beeba2e13b0",
   "metadata": {},
   "outputs": [],
   "source": [
    "X_train.head()"
   ]
  },
  {
   "cell_type": "markdown",
   "id": "b97a7243",
   "metadata": {},
   "source": [
    "#### Checking class distribution "
   ]
  },
  {
   "cell_type": "code",
   "execution_count": null,
   "id": "3d4ea8d0",
   "metadata": {},
   "outputs": [],
   "source": [
    "import matplotlib.pyplot as plt\n",
    "\n",
    "# Check class distribution\n",
    "class_counts = y_train.value_counts()\n",
    "\n",
    "plt.figure(figsize=(6,4))\n",
    "plt.bar(class_counts.index, class_counts.values, color=[color2, 'red'])\n",
    "# sns.barplot(x=list(class_counts.index), y=class_counts.values, color=color2)\n",
    "plt.xticks([0,1], labels=['Non-Defaulters (0)', 'Defaulters (1)'])\n",
    "plt.ylabel(\"Number of Samples\")\n",
    "plt.title(\"Class Distribution Before Handling Imbalance\")\n",
    "plt.show()\n",
    "\n",
    "# Print class ratio\n",
    "print(f\"Non-Defaulters: {class_counts[0]} ({class_counts[0] / len(y_train):.2%})\")\n",
    "print(f\"Defaulters: {class_counts[1]} ({class_counts[1] / len(y_train):.2%})\")\n"
   ]
  },
  {
   "cell_type": "markdown",
   "id": "4b123646",
   "metadata": {},
   "source": [
    "# Model Training "
   ]
  },
  {
   "cell_type": "markdown",
   "id": "61b256f9",
   "metadata": {},
   "source": [
    "### LogisticRegression"
   ]
  },
  {
   "cell_type": "code",
   "execution_count": null,
   "id": "0c8e0a6f-d4b3-4ce9-9bd2-ebd46d02166c",
   "metadata": {},
   "outputs": [],
   "source": [
    "from sklearn.linear_model import LogisticRegression\n",
    "from sklearn.metrics import accuracy_score\n",
    "from sklearn.metrics import f1_score,precision_score,recall_score , roc_auc_score\n",
    "from sklearn.metrics import confusion_matrix"
   ]
  },
  {
   "cell_type": "code",
   "execution_count": null,
   "id": "5ebcf1ce-a401-4ef8-a184-a5f4ec007d6a",
   "metadata": {},
   "outputs": [],
   "source": [
    "model = LogisticRegression(class_weight='balanced', random_state=42)\n",
    "model.fit(x_train_scaled, y_train)\n",
    "xtrain_pred = model.predict(x_train_scaled)\n",
    "xtest_pred = model.predict(x_test_scaled)\n",
    "print(f\"train accuracy:{accuracy_score(y_train, xtrain_pred):.2f}\")\n",
    "print(f\"test accuracy: {accuracy_score(y_test,xtest_pred):.2f}\")\n",
    "print(\"Test Confusion Matrix:\\n\", confusion_matrix(y_test, xtest_pred))"
   ]
  },
  {
   "cell_type": "code",
   "execution_count": null,
   "id": "e74ee0fc-884a-441c-85fe-261c5e4b7a3f",
   "metadata": {},
   "outputs": [],
   "source": [
    "test_pred = model.predict(x_test_scaled)\n",
    "test_proba = model.predict_proba(x_test_scaled)[:, 1]\n",
    "print(\"Class 0 F1:\", f1_score(y_test, test_pred, pos_label=0))\n",
    "print(\"Class 1 F1:\", f1_score(y_test, test_pred))\n",
    "print(\"ROC-AUC:\", roc_auc_score(y_test, test_proba))"
   ]
  },
  {
   "cell_type": "markdown",
   "id": "2c001354",
   "metadata": {},
   "source": [
    "### DecisionTree"
   ]
  },
  {
   "cell_type": "code",
   "execution_count": null,
   "id": "74f96a33-1883-45ab-8137-33348251be94",
   "metadata": {},
   "outputs": [],
   "source": [
    "from sklearn.tree import DecisionTreeClassifier"
   ]
  },
  {
   "cell_type": "code",
   "execution_count": null,
   "id": "cadb82ed-e8f9-4ae9-84a3-7e12464a908d",
   "metadata": {},
   "outputs": [],
   "source": [
    "# model = DecisionTreeClassifier(random_state=42 , max_depth=3 , criterion='gini' , min_samples_leaf=10 , min_samples_split=10 , \n",
    "#                         )\n",
    "# model.fit(x_train_scaled, y_train)\n",
    "\n",
    "# model.fit(x_train_scaled, y_train)\n",
    "# xtrain_pred = model.predict(x_train_scaled)\n",
    "# xtest_pred = model.predict(x_test_scaled)\n",
    "# print(f\"train accuracy:{accuracy_score(y_train, xtrain_pred):.2f}\")\n",
    "# print(f\"test accuracy: {accuracy_score(y_test,xtest_pred):.2f}\")\n",
    "# print(\"Test Confusion Matrix:\\n\", confusion_matrix(y_test, xtest_pred))"
   ]
  },
  {
   "cell_type": "code",
   "execution_count": null,
   "id": "4750d5ae-02a9-437e-b922-8a4afaba28ff",
   "metadata": {},
   "outputs": [],
   "source": [
    "# test_pred = model.predict(x_test_scaled)\n",
    "# test_proba = model.predict_proba(x_test_scaled)[:, 1]\n",
    "# print(\"Class 0 F1:\", f1_score(y_test, test_pred, pos_label=0))\n",
    "# print(\"Class 1 F1:\", f1_score(y_test, test_pred))\n",
    "# print(\"ROC-AUC:\", roc_auc_score(y_test, test_proba))"
   ]
  },
  {
   "cell_type": "markdown",
   "id": "ce3d8c3d",
   "metadata": {},
   "source": [
    "### Random Forest"
   ]
  },
  {
   "cell_type": "code",
   "execution_count": null,
   "id": "9350dfe1",
   "metadata": {},
   "outputs": [],
   "source": [
    "from sklearn.ensemble import RandomForestClassifier"
   ]
  },
  {
   "cell_type": "code",
   "execution_count": null,
   "id": "a487f053",
   "metadata": {},
   "outputs": [],
   "source": [
    "# model = RandomForestClassifier(random_state=42)\n",
    "# model.fit(x_train_scaled, y_train)\n",
    "# xtrain_pred = model.predict_proba(x_train_scaled)[:, 1]\n",
    "# xtest_pred = model.predict_proba(x_test_scaled)[:, 1]\n",
    "\n",
    "# custom_threshold = 0.5\n",
    "\n",
    "# xtrain_pred_custom = (xtrain_pred >= custom_threshold).astype(int)\n",
    "# xtest_pred_custom = (xtest_pred >= custom_threshold).astype(int)\n",
    "\n",
    "# xtrain_accuracy_custom = accuracy_score(y_train, xtrain_pred_custom)\n",
    "# xtest_accuracy_custom = accuracy_score(y_test, xtest_pred_custom)\n",
    "\n",
    "# print(\"Custom Threshold xtrain Accuracy:\", xtrain_accuracy_custom)\n",
    "# print(\"Custom Threshold xtest Accuracy:\", xtest_accuracy_custom)\n",
    "\n",
    "# print(\"Test Confusion Matrix:\\n\", confusion_matrix(y_test, xtest_pred_custom))\n",
    "# print(\"Train Confusion Matrix:\\n\", confusion_matrix(y_train, xtrain_pred_custom))"
   ]
  },
  {
   "cell_type": "markdown",
   "id": "8b7058fd",
   "metadata": {},
   "source": [
    "### XGBoost"
   ]
  },
  {
   "cell_type": "code",
   "execution_count": null,
   "id": "e0d8b913",
   "metadata": {},
   "outputs": [],
   "source": [
    "from xgboost import XGBClassifier   "
   ]
  },
  {
   "cell_type": "code",
   "execution_count": null,
   "id": "3abef45b",
   "metadata": {},
   "outputs": [],
   "source": [
    "model = XGBClassifier(random_state=42)\n",
    "model.fit(x_train_scaled, y_train)\n",
    "\n",
    "xtrain_pred = model.predict_proba(x_train_scaled)[:, 1]\n",
    "xtest_pred = model.predict_proba(x_test_scaled)[:, 1]\n",
    "\n",
    "# xtrain_pred = model.predict(x_train_scaled)\n",
    "# xtest_pred = model.predict(x_test_scaled)\n",
    "\n",
    "custom_threshold = 0.3\n",
    "\n",
    "xtrain_pred_custom = (xtrain_pred >= custom_threshold).astype(int)\n",
    "xtest_pred_custom = (xtest_pred >= custom_threshold).astype(int)\n",
    "\n",
    "xtrain_accuracy_custom = accuracy_score(y_train, xtrain_pred_custom)\n",
    "xtest_accuracy_custom = accuracy_score(y_test, xtest_pred_custom)\n",
    "\n",
    "print(\"Custom Threshold xtrain Accuracy:\", xtrain_accuracy_custom)\n",
    "print(\"Custom Threshold xtest Accuracy:\", xtest_accuracy_custom)\n",
    "\n",
    "print(\"Test Confusion Matrix:\\n\", confusion_matrix(y_test, xtest_pred_custom))\n",
    "print(\"Train Confusion Matrix:\\n\", confusion_matrix(y_train, xtrain_pred_custom))"
   ]
  },
  {
   "cell_type": "code",
   "execution_count": null,
   "id": "e9cc3571",
   "metadata": {},
   "outputs": [],
   "source": [
    "# test_pred = model.predict(x_test_scaled)\n",
    "# test_proba = model.predict_proba(x_test_scaled)[:, 1]\n",
    "# print(\"Class 0 F1:\", f1_score(y_test, test_pred, pos_label=0))\n",
    "# print(\"Class 1 F1:\", f1_score(y_test, test_pred))\n",
    "# print(\"ROC-AUC:\", roc_auc_score(y_test, test_proba))"
   ]
  },
  {
   "cell_type": "markdown",
   "id": "9056c180",
   "metadata": {},
   "source": [
    "### Gradient Boosting & LightGBM"
   ]
  },
  {
   "cell_type": "code",
   "execution_count": null,
   "id": "45d6c14d",
   "metadata": {},
   "outputs": [],
   "source": [
    "from sklearn.ensemble import GradientBoostingClassifier"
   ]
  },
  {
   "cell_type": "code",
   "execution_count": null,
   "id": "17ae91fc",
   "metadata": {},
   "outputs": [],
   "source": [
    "model = GradientBoostingClassifier(random_state=42, learning_rate=0.1 , n_estimators=100)\n",
    "model.fit(x_train_scaled, y_train)\n",
    "\n",
    "xtrain_pred = model.predict_proba(x_train_scaled)[:, 1]\n",
    "xtest_pred = model.predict_proba(x_test_scaled)[:, 1]\n",
    "\n",
    "# xtrain_pred = model.predict(x_train_scaled)\n",
    "# xtest_pred = model.predict(x_test_scaled)\n",
    "\n",
    "custom_threshold = 0.5\n",
    "\n",
    "xtrain_pred_custom = (xtrain_pred >= custom_threshold).astype(int)\n",
    "xtest_pred_custom = (xtest_pred >= custom_threshold).astype(int)\n",
    "\n",
    "xtrain_accuracy_custom = accuracy_score(y_train, xtrain_pred_custom)\n",
    "xtest_accuracy_custom = accuracy_score(y_test, xtest_pred_custom)\n",
    "\n",
    "print(\"Custom Threshold xtrain Accuracy:\", xtrain_accuracy_custom)\n",
    "print(\"Custom Threshold xtest Accuracy:\", xtest_accuracy_custom)\n",
    "\n",
    "print(\"Test Confusion Matrix:\\n\", confusion_matrix(y_test, xtest_pred_custom))\n",
    "print(\"Train Confusion Matrix:\\n\", confusion_matrix(y_train, xtrain_pred_custom))"
   ]
  },
  {
   "cell_type": "code",
   "execution_count": null,
   "id": "a39d3abf",
   "metadata": {},
   "outputs": [],
   "source": [
    "test_pred = model.predict(x_test_scaled)\n",
    "test_proba = model.predict_proba(x_test_scaled)[:, 1]\n",
    "print(\"Class 0 F1:\", f1_score(y_test, test_pred, pos_label=0))\n",
    "print(\"Class 1 F1:\", f1_score(y_test, test_pred))\n",
    "print(\"ROC-AUC:\", roc_auc_score(y_test, test_proba))"
   ]
  },
  {
   "cell_type": "code",
   "execution_count": null,
   "id": "150ff4d6",
   "metadata": {},
   "outputs": [],
   "source": [
    "import lightgbm as lgb"
   ]
  },
  {
   "cell_type": "code",
   "execution_count": null,
   "id": "e145ff6a",
   "metadata": {},
   "outputs": [],
   "source": [
    "model = lgb.LGBMClassifier(n_estimators=100, \n",
    "    learning_rate=0.1, \n",
    "    max_depth=3, \n",
    "    random_state=42)\n",
    "model.fit(x_train_scaled, y_train)\n",
    "\n",
    "xtrain_pred = model.predict_proba(x_train_scaled)[:, 1]\n",
    "xtest_pred = model.predict_proba(x_test_scaled)[:, 1]\n",
    "\n",
    "# xtrain_pred = model.predict(x_train_scaled)\n",
    "# xtest_pred = model.predict(x_test_scaled)\n",
    "\n",
    "custom_threshold = 0.5\n",
    "\n",
    "xtrain_pred_custom = (xtrain_pred >= custom_threshold).astype(int)\n",
    "xtest_pred_custom = (xtest_pred >= custom_threshold).astype(int)\n",
    "\n",
    "xtrain_accuracy_custom = accuracy_score(y_train, xtrain_pred_custom)\n",
    "xtest_accuracy_custom = accuracy_score(y_test, xtest_pred_custom)\n",
    "\n",
    "print(\"Custom Threshold xtrain Accuracy:\", xtrain_accuracy_custom)\n",
    "print(\"Custom Threshold xtest Accuracy:\", xtest_accuracy_custom)\n",
    "\n",
    "print(\"Test Confusion Matrix:\\n\", confusion_matrix(y_test, xtest_pred_custom))\n",
    "print(\"Train Confusion Matrix:\\n\", confusion_matrix(y_train, xtrain_pred_custom))"
   ]
  },
  {
   "cell_type": "code",
   "execution_count": null,
   "id": "641bb168",
   "metadata": {},
   "outputs": [],
   "source": [
    "test_pred = model.predict(x_test_scaled)\n",
    "test_proba = model.predict_proba(x_test_scaled)[:, 1]\n",
    "print(\"Class 0 F1:\", f1_score(y_test, xtest_pred_custom, pos_label=0))\n",
    "print(\"Class 1 F1:\", f1_score(y_test, xtest_pred_custom) )\n",
    "print(\"ROC-AUC:\", roc_auc_score(y_test, xtest_pred_custom))\n",
    "\n",
    "print(f\"Precision: {precision_score(y_test,xtest_pred_custom):.2f}\")\n",
    "print(f\"Recall: {recall_score(y_test,xtest_pred_custom):.2f}\")\n",
    "print(f\"F1-Score: {f1_score(y_test, xtest_pred_custom):.2f}\")"
   ]
  },
  {
   "cell_type": "code",
   "execution_count": null,
   "id": "f8ba48d7",
   "metadata": {},
   "outputs": [],
   "source": []
  }
 ],
 "metadata": {
  "kernelspec": {
   "display_name": "Python 3",
   "language": "python",
   "name": "python3"
  },
  "language_info": {
   "codemirror_mode": {
    "name": "ipython",
    "version": 3
   },
   "file_extension": ".py",
   "mimetype": "text/x-python",
   "name": "python",
   "nbconvert_exporter": "python",
   "pygments_lexer": "ipython3",
   "version": "3.12.4"
  }
 },
 "nbformat": 4,
 "nbformat_minor": 5
}
