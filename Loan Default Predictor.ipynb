{
 "cells": [
  {
   "cell_type": "markdown",
   "id": "019bdfd2-d5dc-4afd-a615-1b8f86281b3a",
   "metadata": {},
   "source": [
    "  # Project: Loan Default Predictor"
   ]
  },
  {
   "cell_type": "code",
   "execution_count": null,
   "id": "b4f94c7f-ec65-4b5f-9d9b-669cc85564f3",
   "metadata": {},
   "outputs": [],
   "source": [
    "import pandas as pd\n",
    "import numpy as np \n",
    "import seaborn as sns\n",
    "import matplotlib.pyplot as plt\n",
    "from sklearn.model_selection import train_test_split\n",
    "from sklearn.preprocessing import StandardScaler"
   ]
  },
  {
   "cell_type": "code",
   "execution_count": null,
   "id": "955dd0dc-2df8-40a4-b199-dba2e0970637",
   "metadata": {},
   "outputs": [],
   "source": [
    "df = pd.read_csv(r'E:\\My_Portfolio_Projects\\ML Models\\Loan_prediction_model\\lending_club_loan_two.csv', encoding='utf-8') \n",
    "color1 = '#F5F5DC'\n",
    "color2 = '#4B0082'"
   ]
  },
  {
   "cell_type": "markdown",
   "id": "82b361d4-7039-4b5a-a2c0-c9ceb57369b8",
   "metadata": {},
   "source": [
    " # Data Preprocessing"
   ]
  },
  {
   "cell_type": "code",
   "execution_count": null,
   "id": "90c6159e-0f17-4464-bf6d-2e80098de163",
   "metadata": {
    "scrolled": true
   },
   "outputs": [],
   "source": [
    "df.head(3)"
   ]
  },
  {
   "cell_type": "code",
   "execution_count": null,
   "id": "458c5408-b6e7-4b30-bebe-89698add2b44",
   "metadata": {},
   "outputs": [],
   "source": [
    "df.info()"
   ]
  },
  {
   "cell_type": "code",
   "execution_count": null,
   "id": "914789fb-286b-4753-bee9-0f086d2dbe1a",
   "metadata": {
    "scrolled": true
   },
   "outputs": [],
   "source": [
    "df.describe()"
   ]
  },
  {
   "cell_type": "markdown",
   "id": "05a96336-7138-4b58-9843-88b43a7b8a75",
   "metadata": {},
   "source": [
    "### Remove Unnecessary Columns"
   ]
  },
  {
   "cell_type": "code",
   "execution_count": null,
   "id": "67ccec4f-663e-48dd-b952-be99e649fc56",
   "metadata": {
    "scrolled": true
   },
   "outputs": [],
   "source": [
    "\n",
    "df.drop(['emp_title' , 'initial_list_status' , 'application_type' , 'mort_acc' , 'address','issue_d','purpose','title'], axis=1 , inplace = True )"
   ]
  },
  {
   "cell_type": "markdown",
   "id": "253d5b0b-3137-4de3-a6bf-c645b1d46121",
   "metadata": {},
   "source": [
    "\n",
    "### Fix data types  "
   ]
  },
  {
   "cell_type": "code",
   "execution_count": null,
   "id": "0a3eeaa0-e218-4882-b546-031fc3e24947",
   "metadata": {},
   "outputs": [],
   "source": [
    "df.dtypes"
   ]
  },
  {
   "cell_type": "code",
   "execution_count": null,
   "id": "57ac875a-434c-4255-934f-2f6c2db12547",
   "metadata": {},
   "outputs": [],
   "source": [
    "\n",
    "categorical_cols = ['term', 'grade', 'sub_grade', 'verification_status', 'home_ownership', \n",
    "                    'loan_status']\n",
    "for col in categorical_cols : \n",
    "   df[col] =  df[col].astype('category')"
   ]
  },
  {
   "cell_type": "code",
   "execution_count": null,
   "id": "7d1cebb8-f4d4-41a6-9d34-507aafc3d893",
   "metadata": {},
   "outputs": [],
   "source": [
    "df['loan_amnt'] = df['loan_amnt'].replace({r'\\$' : '' , ',' : ''} , regex = True).astype(float)"
   ]
  },
  {
   "cell_type": "code",
   "execution_count": null,
   "id": "9b6a71e9-20af-4f77-b7c5-62a19dc87957",
   "metadata": {},
   "outputs": [],
   "source": [
    "df.dtypes"
   ]
  },
  {
   "cell_type": "markdown",
   "id": "3a81f52c-39c1-4db8-9c37-ec75231194ed",
   "metadata": {},
   "source": [
    "### Understand Missing Data"
   ]
  },
  {
   "cell_type": "code",
   "execution_count": null,
   "id": "e278f955-abd0-48a6-b364-3a0963c428c4",
   "metadata": {},
   "outputs": [],
   "source": [
    "df.isnull().sum()"
   ]
  },
  {
   "cell_type": "code",
   "execution_count": null,
   "id": "aecf4a99-93c7-45c8-8df6-3030d87779f2",
   "metadata": {},
   "outputs": [],
   "source": [
    "# checking missing value with heatmap .\n",
    "plt.figure(figsize=(6,3))\n",
    "sns.heatmap(df.isnull(), cmap=\"viridis\", cbar=False, yticklabels=False , color = '#4B0082')\n",
    "plt.show()"
   ]
  },
  {
   "cell_type": "markdown",
   "id": "0cf935a6-30c4-4853-9b89-3cbafe3f4aef",
   "metadata": {},
   "source": [
    "### Imputation For Misssing Data"
   ]
  },
  {
   "cell_type": "code",
   "execution_count": null,
   "id": "5b9d5392-81ca-41bd-ac1f-8d3921996031",
   "metadata": {},
   "outputs": [],
   "source": [
    "#   revol_util\n",
    "# I am gonna Use median because percentage values are numeric and the median is robust to outliers.\n",
    "df['revol_util'] = df['revol_util'].fillna(df['revol_util'].median())  "
   ]
  },
  {
   "cell_type": "code",
   "execution_count": null,
   "id": "1b909856-bb26-4684-8c54-3f782b61793f",
   "metadata": {},
   "outputs": [],
   "source": [
    "# Fill missing values in 'emp_length' with the most frequent value\n",
    "df['emp_length'] = df['emp_length'].fillna(df['emp_length'].mode()[0])"
   ]
  },
  {
   "cell_type": "code",
   "execution_count": null,
   "id": "65341a58-e750-4eaf-b036-413134f6e4df",
   "metadata": {},
   "outputs": [],
   "source": [
    "# Fill missing values in 'emp_length' with the most frequent value , Becuase there is a pretty low chance of bankruptcy\n",
    "mode_value = df['pub_rec_bankruptcies'].mode()\n",
    "if not mode_value.empty:\n",
    "    df['pub_rec_bankruptcies'] = df['pub_rec_bankruptcies'].fillna(mode_value[0])\n",
    "else:\n",
    "    df['pub_rec_bankruptcies'] = df['pub_rec_bankruptcies'].fillna(mode_value[0])  \n",
    "    \n",
    "df['pub_rec_bankruptcies'] = df['pub_rec_bankruptcies'].astype(int)"
   ]
  },
  {
   "cell_type": "code",
   "execution_count": null,
   "id": "5bf87e0c-b4ca-4049-a17c-01b26bea15b4",
   "metadata": {},
   "outputs": [],
   "source": [
    "plt.figure(figsize=(7,5))\n",
    "sns.boxplot(data=df[['loan_amnt', 'int_rate', 'installment', 'annual_inc', 'dti']] , color='#4B0082')\n",
    "plt.xticks(rotation=45)\n",
    "plt.title(\"Box Plot of Numeric Features\")\n",
    "plt.show()"
   ]
  },
  {
   "cell_type": "markdown",
   "id": "7866217f-a310-4e86-9b12-8138baf8a34d",
   "metadata": {},
   "source": [
    "###   Outliers removal"
   ]
  },
  {
   "cell_type": "code",
   "execution_count": null,
   "id": "9d0682c9-a8ee-4458-8a45-9712e0c28d8c",
   "metadata": {},
   "outputs": [],
   "source": [
    "# we will use IQR for the following columns 'pub_rec', 'dti', 'open_acc' , 'revol_util' Cause its outliers doesn't make sence or they may errors \n",
    "df_original = df.copy()\n",
    "\n",
    "def remove_outliers(df, columns):\n",
    "    for col in columns:\n",
    "        \n",
    "        Q1 = df[col].quantile(0.25)\n",
    "        Q3 = df[col].quantile(0.75)\n",
    "        \n",
    "        IQR = Q3 - Q1\n",
    "\n",
    "        lower_bound = Q1 - 1.5 * IQR\n",
    "        upper_bound = Q3 + 1.5 * IQR\n",
    "\n",
    "        # Filter out the outliers\n",
    "        before_count = df.shape[0] \n",
    "        df = df[(df[col] >= lower_bound) & (df[col] <= upper_bound)]\n",
    "        after_count = df.shape[0] \n",
    "\n",
    "        print(f\"Removed {before_count - after_count} outliers from '{col}'\")\n",
    "\n",
    "    return df \n",
    "\n",
    "outlier_con_columns = ['pub_rec', 'dti', 'open_acc' , 'revol_util']\n",
    "df = remove_outliers(df, outlier_con_columns)"
   ]
  },
  {
   "cell_type": "code",
   "execution_count": null,
   "id": "a2c218a5-a78f-45b6-994b-6021a250873b",
   "metadata": {},
   "outputs": [],
   "source": [
    "# we will use 'winsorization' method for those outliers that are not necesserly errors but it's a valueble information.\n",
    "def winsorization(series , lower_percentile=1 , upper_percentile=99): \n",
    "    lower_bond = np.percentile(series , lower_percentile)\n",
    "    upper_bond = np.percentile(series , upper_percentile)\n",
    "    return np.clip(series , lower_bond , upper_bond) \n",
    "\n",
    "df['loan_amnt'] = winsorization(df['loan_amnt'])\n",
    "df['int_rate'] = winsorization(df['int_rate'])\n",
    "df['installment'] = winsorization(df['installment'])\n",
    "df['total_acc'] = winsorization(df['total_acc'])\n",
    "df['pub_rec_bankruptcies'] = winsorization(df['pub_rec_bankruptcies'])"
   ]
  },
  {
   "cell_type": "code",
   "execution_count": null,
   "id": "3adbce51-f6e5-4504-ae4b-418b7e80b8f1",
   "metadata": {},
   "outputs": [],
   "source": [
    "# the two columns revol_bal and annual_income may not have outliers so we will use 'LOG TRANSFORMATION' for skewed data \n",
    "df['annual_inc'] = np.log1p(df['annual_inc'])\n",
    "df['revol_bal'] = np.log1p(df['revol_bal'])"
   ]
  },
  {
   "cell_type": "code",
   "execution_count": null,
   "id": "860ecdaa-0f0a-4ab4-ab57-ef827b61ea76",
   "metadata": {},
   "outputs": [],
   "source": [
    "# Visualize selected numerical columns after cleaning\n",
    "fig, axes = plt.subplots(2, 3, figsize=(14, 7) )\n",
    "selected_cols = ['loan_amnt', 'annual_inc', 'dti', 'int_rate', 'revol_bal', 'revol_util']\n",
    "\n",
    "for i, col in enumerate(selected_cols):\n",
    "    sns.histplot(df[col], bins=40, kde=True, ax=axes[i//3, i%3] , color='red' )\n",
    "    axes[i//3, i%3].set_title(f'Distribution of {col} After Outlier Removal')\n",
    "\n",
    "plt.tight_layout()\n",
    "plt.show()"
   ]
  },
  {
   "cell_type": "markdown",
   "id": "7c5b723d-f519-41f4-aa05-8861dd30088c",
   "metadata": {},
   "source": [
    "###     Feature Engineering"
   ]
  },
  {
   "cell_type": "code",
   "execution_count": null,
   "id": "6a9027f6-db4d-4127-b8c4-c50169ea8480",
   "metadata": {},
   "outputs": [],
   "source": [
    "df_cleaned = df.copy()"
   ]
  },
  {
   "cell_type": "code",
   "execution_count": null,
   "id": "7f8d718b-65a6-4b2e-b167-a1bad5000d28",
   "metadata": {},
   "outputs": [],
   "source": [
    "df_cleaned.head(3)"
   ]
  },
  {
   "cell_type": "code",
   "execution_count": null,
   "id": "c5355985-9658-4ba6-81dd-68456136b54a",
   "metadata": {},
   "outputs": [],
   "source": [
    "# new column loan to income ratio\n",
    "df['loan_to_income_ration'] = df['loan_amnt'] / df['annual_inc']"
   ]
  },
  {
   "cell_type": "code",
   "execution_count": null,
   "id": "ec2dae16-1ad9-4215-9251-7318d45b4464",
   "metadata": {},
   "outputs": [],
   "source": [
    "# another column installment to income \n",
    "df['monthly_inc'] = df['annual_inc'] / 12\n",
    "df['installment_to_income'] = df['monthly_inc'] / df['installment']"
   ]
  },
  {
   "cell_type": "code",
   "execution_count": null,
   "id": "0f8d523d-f4c1-4e87-ac0e-3235e01b7347",
   "metadata": {},
   "outputs": [],
   "source": [
    "# credit age\n",
    "df['earliest_cr_line'] = pd.to_datetime(df['earliest_cr_line'], format = '%b-%Y' , errors='coerce')\n",
    "df['credit_age'] = (pd.Timestamp.today() - df['earliest_cr_line']).dt.days / 365.25\n",
    "df['credit_age'] = df['earliest_cr_line'].dt.strftime('%b-%Y')"
   ]
  },
  {
   "cell_type": "code",
   "execution_count": null,
   "id": "cf079a84-adb1-4bc8-abc7-97e873b825fa",
   "metadata": {},
   "outputs": [],
   "source": [
    "# One-Hot Encoding With drop_first = True for homeOwnership \n",
    "df = pd.get_dummies(df, columns=['home_ownership'], drop_first=True)\n",
    "\n",
    "for col in df.select_dtypes(include=['bool']).columns:\n",
    "    df[col] = df[col].astype(int)"
   ]
  },
  {
   "cell_type": "code",
   "execution_count": null,
   "id": "6c450d0d-8a1d-4a35-8b2f-af152e55dadf",
   "metadata": {},
   "outputs": [],
   "source": [
    "# term in months \n",
    "df['term_in_months'] = df['term'].str.extract('(\\\\d+)').astype(int)"
   ]
  },
  {
   "cell_type": "code",
   "execution_count": null,
   "id": "a75df60f-089a-4b06-ade7-076b4b77ad39",
   "metadata": {},
   "outputs": [],
   "source": [
    "# number for emp_length \n",
    "order = ['< 1 year', '1 year', '2 years', '3 years', '4 years', '5 years', \n",
    "         '6 years', '7 years', '8 years', '9 years', '10+ years']\n",
    "\n",
    "df['emp_length_encoded'] = pd.Categorical(df['emp_length'], categories=order, ordered=True).codes                                            "
   ]
  },
  {
   "cell_type": "code",
   "execution_count": null,
   "id": "6931c2f4-0f5c-4306-beac-10072ecfe527",
   "metadata": {},
   "outputs": [],
   "source": [
    "# numbers for each grade so model can understand \n",
    "grade_order = {'A': 7, 'B': 6, 'C': 5, 'D': 4, 'E': 3, 'F': 2, 'G': 1}\n",
    "df['grade_encoded'] = df['grade'].map(grade_order)"
   ]
  },
  {
   "cell_type": "code",
   "execution_count": null,
   "id": "e7f36f3d-c0eb-4c81-9eb7-29d873abae28",
   "metadata": {},
   "outputs": [],
   "source": [
    "# Encoding sub_grade  (   A1 is best, G5 is worst   )\n",
    "sub_grade_order = [f\"{g}{n}\" for g in \"ABCDEFG\" for n in range(1, 6)] \n",
    "df['sub_grade_encoded'] = pd.Categorical(df['sub_grade'], categories=sub_grade_order, ordered=True).codes"
   ]
  },
  {
   "cell_type": "code",
   "execution_count": null,
   "id": "28c9927d-e0c1-47dd-99b4-b86549aebca4",
   "metadata": {},
   "outputs": [],
   "source": [
    "# decoding loan status for prediction \n",
    "df['loan_status_decode'] = df['loan_status']\n",
    "df['loan_status_decode'] = df['loan_status_decode'].map({'Fully Paid' : 1 , 'Charged Off' : 0 })"
   ]
  },
  {
   "cell_type": "code",
   "execution_count": null,
   "id": "8b8b4a36-c5e5-4704-bba1-9220e03de14d",
   "metadata": {},
   "outputs": [],
   "source": [
    "df.head(2)\n"
   ]
  },
  {
   "cell_type": "code",
   "execution_count": null,
   "id": "3d8458e9-7fba-4307-ba92-3fc257c25f0f",
   "metadata": {},
   "outputs": [],
   "source": [
    "print(df['verification_status'].value_counts())"
   ]
  },
  {
   "cell_type": "code",
   "execution_count": null,
   "id": "4f1dab5a-e138-4607-9f3d-74453d507059",
   "metadata": {},
   "outputs": [],
   "source": [
    " df = pd.get_dummies(df, columns=['verification_status'], drop_first=True)\n",
    "\n",
    "#it showing 'bool' data types we have to convert it to 'integer' so model will understand it better \n",
    "for col in df.select_dtypes(include=['bool']).columns:\n",
    "    df[col] = df[col].astype(int)"
   ]
  },
  {
   "cell_type": "code",
   "execution_count": null,
   "id": "5c959daa-32cb-4257-b8d9-09ba690be21e",
   "metadata": {},
   "outputs": [],
   "source": [
    "df_transformed = df.copy()"
   ]
  },
  {
   "cell_type": "markdown",
   "id": "198d3b6c-bc30-4f92-a202-d33b6ac84875",
   "metadata": {},
   "source": [
    "###      Train-Test Split and Scaling"
   ]
  },
  {
   "cell_type": "code",
   "execution_count": null,
   "id": "c21bb9d4-109c-482c-b3cc-dc3b7137e2eb",
   "metadata": {
    "scrolled": true
   },
   "outputs": [],
   "source": [
    "# Drop raw categorical columns and target from the features\n",
    "un_encoded_col = ['term', 'grade', 'sub_grade', 'emp_length', 'loan_status', 'earliest_cr_line', 'credit_age']\n",
    "X = df.drop(columns = un_encoded_col + ['loan_status_decode'])\n",
    "y = df['loan_status_decode']\n",
    "\n",
    "# Split the data 80% training, 20% testing\n",
    "X_train, X_test, y_train, y_test = train_test_split(X, y, test_size=0.2, random_state=42)\n",
    "\n",
    "scaler = StandardScaler()\n",
    "\n",
    "# Fit on training data and transform both training and test data\n",
    "x_train_scaled = scaler.fit_transform(X_train)\n",
    "x_test_scaled = scaler.transform(X_test)  \n",
    "\n",
    "x_train_scaled = pd.DataFrame(x_train_scaled, columns=X_train.columns)\n",
    "x_test_scaled = pd.DataFrame(x_test_scaled, columns=X_test.columns)\n",
    "\n",
    "print(\"Scaled Training Features\")\n",
    "print(x_train_scaled)"
   ]
  },
  {
   "cell_type": "markdown",
   "id": "f40109d5-73d6-41c8-bfdb-0c8300dd7434",
   "metadata": {},
   "source": [
    "# Exploratory Data Analysis"
   ]
  },
  {
   "cell_type": "code",
   "execution_count": null,
   "id": "f42ac4fc-43bb-4339-b6d3-e9c02f79d83d",
   "metadata": {
    "jupyter": {
     "source_hidden": true
    }
   },
   "outputs": [],
   "source": [
    "# Group data by 'grade' and 'loan_status' and count the occurrences\n",
    "stacked_data = df_cleaned.groupby(['grade', 'loan_status'] , observed=True).size().unstack(fill_value=0)\n",
    "\n",
    "# stacked bar plot\n",
    "ax = stacked_data.plot(kind='bar', stacked=True , figsize=(6, 4) , color = [color1 , color2])\n",
    "plt.title(\"Loan Count by Grade\")\n",
    "plt.xlabel(\"Loan Grade\")\n",
    "plt.ylabel(\"Count of Loans\")\n",
    "plt.legend(title=\"Loan Status\")\n",
    "ax.set_facecolor(color='white')\n",
    "plt.show()"
   ]
  },
  {
   "cell_type": "code",
   "execution_count": null,
   "id": "d198b66a-397e-4c2c-8d03-9f8e73b290a9",
   "metadata": {
    "jupyter": {
     "source_hidden": true
    }
   },
   "outputs": [],
   "source": [
    "# List of crucial categorical columns\n",
    "crucial_columns = ['grade','home_ownership','loan_status']\n",
    "\n",
    "# Create subplots: one row with as many columns as we have crucial columns\n",
    "fig, axes = plt.subplots(1, len(crucial_columns), figsize=(6 * len(crucial_columns), 6))\n",
    "\n",
    "# for ax, col in zip(axes, crucial_columns):\n",
    "#     # Count the occurrences in each category for the column and plot as a bar chart\n",
    "#     df_cleaned[col].value_counts().plot(kind='bar', ax=ax, color=color2)\n",
    "#     ax.set_title(f'Count of Loans by {col}', fontsize=14, fontweight='bold')\n",
    "#     ax.set_xlabel(col, fontsize=12)\n",
    "#     ax.set_ylabel(\"Count\", fontsize=12)\n",
    "#     ax.tick_params(axis='x', rotation=45)\n",
    "\n",
    "                   # OR\n",
    "\n",
    "for i, col in enumerate(crucial_columns):\n",
    "    # Count the occurrences in each category for the column and plot as a bar chart\n",
    "    df_cleaned[col].value_counts().plot(kind='bar', ax=axes[i], color=color2)\n",
    "    axes[i].set_title(f'Count of Loans by {col}', fontsize=14, fontweight='bold')\n",
    "    axes[i].set_xlabel(col, fontsize=12)\n",
    "    axes[i].set_ylabel(\"Count\", fontsize=12)\n",
    "    axes[i].tick_params(axis='x', rotation=0)\n",
    "\n",
    "plt.tight_layout()\n",
    "plt.show()\n",
    "\n"
   ]
  },
  {
   "cell_type": "code",
   "execution_count": null,
   "id": "de3716b6-4e1a-4436-b0b3-662514fa5704",
   "metadata": {
    "jupyter": {
     "source_hidden": true
    }
   },
   "outputs": [],
   "source": [
    "plt.figure(figsize=(7,5))\n",
    "sns.violinplot(x='grade', y='annual_inc', data=df_cleaned , linecolor = 'black' , color = color2)\n",
    "plt.title(\"Annual Income Distribution by Loan Grade\")\n",
    "plt.xlabel(\"Loan Grade\")\n",
    "plt.ylabel(\"Annual Income\")\n",
    "plt.show()           "
   ]
  },
  {
   "cell_type": "code",
   "execution_count": null,
   "id": "97261a4c-c5ae-4dc3-8351-43b840fd4ecf",
   "metadata": {
    "jupyter": {
     "source_hidden": true
    }
   },
   "outputs": [],
   "source": [
    "selected_features = ['loan_amnt' ,'annual_inc', 'int_rate' , 'dti']\n",
    "sns.pairplot(df_cleaned[selected_features] )\n",
    "plt.suptitle(\"Pairwise Relationships Among Loan Features\", y=1.02)\n",
    "plt.show()"
   ]
  },
  {
   "cell_type": "code",
   "execution_count": null,
   "id": "0013ddd4-045f-40c5-8338-4f6b04c203c1",
   "metadata": {
    "jupyter": {
     "source_hidden": true
    }
   },
   "outputs": [],
   "source": [
    "plt.figure(figsize=(10, 6))\n",
    "numeric_features = ['loan_amnt', 'annual_inc', 'int_rate', 'installment', 'dti']\n",
    "corr_matrix = df[numeric_features].corr()\n",
    "\n",
    "sns.heatmap(corr_matrix, annot=True, cmap=\"coolwarm\", fmt=\".2f\")\n",
    "plt.title(\"Correlation Heatmap of Numeric Features\")\n",
    "plt.show()"
   ]
  },
  {
   "cell_type": "markdown",
   "id": "7711ea7d-c9a4-4a1c-86ff-88371de80d84",
   "metadata": {},
   "source": [
    "### PCA (Principal Component Analysis)"
   ]
  },
  {
   "cell_type": "code",
   "execution_count": 69,
   "id": "aed6385e-1034-4970-9df6-9c08f137f3b1",
   "metadata": {},
   "outputs": [
    {
     "data": {
      "image/png": "[encoded data removed]",
      "text/plain": [
       "<Figure size 800x500 with 1 Axes>"
      ]
     },
     "metadata": {},
     "output_type": "display_data"
    }
   ],
   "source": [
    "from sklearn.decomposition import PCA\n",
    "# Plot explained variance ratio\n",
    "pca = PCA(n_components=12)\n",
    "\n",
    "# Fit PCA on your data and transform it to get the new, smaller features.\n",
    "x_pca = pca.fit_transform(x_train_scaled)\n",
    "plt.figure(figsize=(8, 5))\n",
    "plt.plot(range(1, len(pca.explained_variance_ratio_) + 1), np.cumsum(pca.explained_variance_ratio_), marker='o')\n",
    "plt.title('Cumulative Explained Variance')\n",
    "plt.xlabel('Number of Principal Components')\n",
    "plt.ylabel('Cumulative Explained Variance')\n",
    "plt.grid()\n",
    "plt.show()\n",
    "# This means the first 15 principal components together explain 95% or 97% of the total variance so we will keep only 15 "
   ]
  },
  {
   "cell_type": "code",
   "execution_count": 73,
   "id": "30173847-3713-4ee9-b247-47bed6ec8e71",
   "metadata": {
    "scrolled": true
   },
   "outputs": [
    {
     "data": {
      "image/png": "[encoded data removed]",
      "text/plain": [
       "<Figure size 800x500 with 1 Axes>"
      ]
     },
     "metadata": {},
     "output_type": "display_data"
    }
   ],
   "source": [
    "# Let's say you already have your features in X (only numeric ones)\n",
    "# For our example, we want to reduce our features to 2 principal components.\n",
    "pca = PCA(n_components=0.95)\n",
    "# pca = PCA(n_components=0.95) or in my case i can use 0.95 becuase 14 pc's are equal to 95% variance in my dataset \n",
    "\n",
    "# Fit PCA on your data and transform it to get the new, smaller features.\n",
    "x_pca = pca.fit_transform(x_train_scaled)\n",
    "\n",
    "explained_variance = pca.explained_variance_ratio_\n",
    "plt.figure(figsize=(8,5))\n",
    "plt.bar(range(1, 15), explained_variance, alpha=0.7, color=color2)\n",
    "plt.xlabel(\"Principal Components\")\n",
    "plt.ylabel(\"Explained Variance\")\n",
    "plt.title(\"Explained Variance by Principal Components\")\n",
    "plt.show()"
   ]
  },
  {
   "cell_type": "code",
   "execution_count": null,
   "id": "5bdf6b7c-b8ac-4e42-8972-6ce66a23e8df",
   "metadata": {},
   "outputs": [],
   "source": [
    "# import time\n",
    "# from sklearn.metrics import accuracy_score\n",
    "# from sklearn.ensemble import RandomForestClassifier\n",
    "\n",
    "# # Initialize the model\n",
    "# model = RandomForestClassifier(random_state=42)\n",
    "\n",
    "# Before PCA\n",
    "# start_time = time.time()\n",
    "# model.fit(X_train, y_train)\n",
    "# end_time = time.time()\n",
    "# training_time_before = end_time - start_time\n",
    "\n",
    "# # Predictions\n",
    "# y_pred_before = model.predict(X_test)\n",
    "\n",
    "# # Accuracy Before PCA\n",
    "# accuracy_before = accuracy_score(y_test, y_pred_before)\n",
    "\n",
    "# print(\"Training Time Before PCA:\", training_time_before)\n",
    "# print(\"Accuracy Before PCA:\", accuracy_before)\n",
    "\n",
    "# # Apply PCA\n",
    "# pca = PCA(n_components=12)  # i will Keep 12 components\n",
    "# X_train_pca = pca.fit_transform(X_train)\n",
    "# X_test_pca = pca.transform(X_test)\n",
    "\n",
    "# # After PCA\n",
    "# start_time = time.time()\n",
    "# model.fit(X_train_pca, y_train)\n",
    "# end_time = time.time()\n",
    "# training_time_after = end_time - start_time\n",
    "\n",
    "# # Predictions\n",
    "# y_pred_after = model.predict(X_test_pca)\n",
    "\n",
    "# # Accuracy After PCA\n",
    "# accuracy_after = accuracy_score(y_test, y_pred_after)\n",
    "\n",
    "# print(\"Training Time (After PCA):\", training_time_after)\n",
    "# print(\"Accuracy (After PCA):\", accuracy_after)\n",
    "\n",
    "# # Compare Results\n",
    "# print(\"\\n--- Comparison ---\")\n",
    "# print(f\"Training Time Reduced? {'Yes' if training_time_after < training_time_before else 'No'}\")\n",
    "# print(f\"Accuracy Change: {accuracy_after - accuracy_before:.4f}\")\n",
    "\n",
    "# the result is \n",
    "# Training Time Before PCA: 223.3123242855072\n",
    "# Accuracy Before PCA: 0.80528835194894\n",
    "# Training Time After PCA: 229.27585411071777\n",
    "# Accuracy After PCA: 0.8037991034115949\n",
    "\n",
    "\n",
    "# it means it cauldn't improved accuracy and speed so we won't use it \n"
   ]
  },
  {
   "cell_type": "code",
   "execution_count": null,
   "id": "015a86f7-bd52-4f7a-8870-2134a0686e72",
   "metadata": {},
   "outputs": [],
   "source": []
  }
 ],
 "metadata": {
  "kernelspec": {
   "display_name": "Python 3 (ipykernel)",
   "language": "python",
   "name": "python3"
  },
  "language_info": {
   "codemirror_mode": {
    "name": "ipython",
    "version": 3
   },
   "file_extension": ".py",
   "mimetype": "text/x-python",
   "name": "python",
   "nbconvert_exporter": "python",
   "pygments_lexer": "ipython3",
   "version": "3.12.4"
  }
 },
 "nbformat": 4,
 "nbformat_minor": 5
}
